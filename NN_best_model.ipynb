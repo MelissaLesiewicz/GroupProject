{
 "cells": [
  {
   "cell_type": "code",
   "execution_count": 4,
   "id": "f8a649df",
   "metadata": {},
   "outputs": [],
   "source": [
    "#import libraries\n",
    "%matplotlib inline\n",
    "import os.path\n",
    "import pandas as pd\n",
    "import numpy as np\n",
    "import tensorflow as tf\n",
    "from tensorflow.keras.models import load_model\n",
    "from sklearn.metrics import confusion_matrix\n",
    "from sklearn.metrics import ConfusionMatrixDisplay\n",
    "import itertools\n",
    "import matplotlib.pyplot as plt\n",
    "from sklearn.metrics import classification_report"
   ]
  },
  {
   "cell_type": "code",
   "execution_count": 7,
   "id": "4055edb8",
   "metadata": {},
   "outputs": [],
   "source": [
    "# Read in the Xtrain, Xtest, ytrain, ytest datasets\n",
    "Xtrain = pd.read_csv('Resources/X_train_SMOTEENN_balanced_unscaled_train_dataset.csv')\n",
    "Xtest = pd.read_csv('Resources/X_test_SMOTEENN_balanced_unscaled_train_dataset.csv')\n",
    "ytrain = pd.read_csv('Resources/y_train_SMOTEENN_balanced_unscaled_train_dataset.csv')\n",
    "ytest = pd.read_csv('Resources/y_test_SMOTEENN_balanced_unscaled_train_dataset.csv')"
   ]
  },
  {
   "cell_type": "code",
   "execution_count": 8,
   "id": "05ffa724",
   "metadata": {},
   "outputs": [
    {
     "data": {
      "text/html": [
       "<div>\n",
       "<style scoped>\n",
       "    .dataframe tbody tr th:only-of-type {\n",
       "        vertical-align: middle;\n",
       "    }\n",
       "\n",
       "    .dataframe tbody tr th {\n",
       "        vertical-align: top;\n",
       "    }\n",
       "\n",
       "    .dataframe thead th {\n",
       "        text-align: right;\n",
       "    }\n",
       "</style>\n",
       "<table border=\"1\" class=\"dataframe\">\n",
       "  <thead>\n",
       "    <tr style=\"text-align: right;\">\n",
       "      <th></th>\n",
       "      <th>gender</th>\n",
       "      <th>age</th>\n",
       "      <th>hypertension</th>\n",
       "      <th>heart_disease</th>\n",
       "      <th>ever_married</th>\n",
       "      <th>work_type</th>\n",
       "      <th>Residence_type</th>\n",
       "      <th>avg_glucose_level</th>\n",
       "      <th>bmi</th>\n",
       "      <th>smoking_status</th>\n",
       "    </tr>\n",
       "  </thead>\n",
       "  <tbody>\n",
       "    <tr>\n",
       "      <th>0</th>\n",
       "      <td>0</td>\n",
       "      <td>64.0</td>\n",
       "      <td>1</td>\n",
       "      <td>0</td>\n",
       "      <td>1</td>\n",
       "      <td>3</td>\n",
       "      <td>1</td>\n",
       "      <td>93.78</td>\n",
       "      <td>24.4</td>\n",
       "      <td>2</td>\n",
       "    </tr>\n",
       "    <tr>\n",
       "      <th>1</th>\n",
       "      <td>0</td>\n",
       "      <td>32.0</td>\n",
       "      <td>0</td>\n",
       "      <td>0</td>\n",
       "      <td>1</td>\n",
       "      <td>2</td>\n",
       "      <td>1</td>\n",
       "      <td>104.92</td>\n",
       "      <td>22.6</td>\n",
       "      <td>2</td>\n",
       "    </tr>\n",
       "    <tr>\n",
       "      <th>2</th>\n",
       "      <td>0</td>\n",
       "      <td>5.0</td>\n",
       "      <td>0</td>\n",
       "      <td>0</td>\n",
       "      <td>0</td>\n",
       "      <td>4</td>\n",
       "      <td>0</td>\n",
       "      <td>59.61</td>\n",
       "      <td>17.1</td>\n",
       "      <td>0</td>\n",
       "    </tr>\n",
       "    <tr>\n",
       "      <th>3</th>\n",
       "      <td>1</td>\n",
       "      <td>70.0</td>\n",
       "      <td>0</td>\n",
       "      <td>0</td>\n",
       "      <td>1</td>\n",
       "      <td>2</td>\n",
       "      <td>1</td>\n",
       "      <td>64.41</td>\n",
       "      <td>29.4</td>\n",
       "      <td>3</td>\n",
       "    </tr>\n",
       "    <tr>\n",
       "      <th>4</th>\n",
       "      <td>1</td>\n",
       "      <td>44.0</td>\n",
       "      <td>0</td>\n",
       "      <td>0</td>\n",
       "      <td>1</td>\n",
       "      <td>2</td>\n",
       "      <td>1</td>\n",
       "      <td>99.34</td>\n",
       "      <td>33.1</td>\n",
       "      <td>2</td>\n",
       "    </tr>\n",
       "  </tbody>\n",
       "</table>\n",
       "</div>"
      ],
      "text/plain": [
       "   gender   age  hypertension  heart_disease  ever_married  work_type  \\\n",
       "0       0  64.0             1              0             1          3   \n",
       "1       0  32.0             0              0             1          2   \n",
       "2       0   5.0             0              0             0          4   \n",
       "3       1  70.0             0              0             1          2   \n",
       "4       1  44.0             0              0             1          2   \n",
       "\n",
       "   Residence_type  avg_glucose_level   bmi  smoking_status  \n",
       "0               1              93.78  24.4               2  \n",
       "1               1             104.92  22.6               2  \n",
       "2               0              59.61  17.1               0  \n",
       "3               1              64.41  29.4               3  \n",
       "4               1              99.34  33.1               2  "
      ]
     },
     "execution_count": 8,
     "metadata": {},
     "output_type": "execute_result"
    }
   ],
   "source": [
    "Xtrain.head()"
   ]
  },
  {
   "cell_type": "code",
   "execution_count": 9,
   "id": "0d8356f6",
   "metadata": {},
   "outputs": [
    {
     "name": "stdout",
     "output_type": "stream",
     "text": [
      "WARNING:tensorflow:Error in loading the saved optimizer state. As a result, your model is starting with a freshly initialized optimizer.\n"
     ]
    }
   ],
   "source": [
    "model = load_model('Models/SMOOTEEN_unscaled_best.h5')"
   ]
  },
  {
   "cell_type": "code",
   "execution_count": 10,
   "id": "c13ad2ef",
   "metadata": {},
   "outputs": [
    {
     "name": "stdout",
     "output_type": "stream",
     "text": [
      "Model: \"sequential\"\n",
      "_________________________________________________________________\n",
      "Layer (type)                 Output Shape              Param #   \n",
      "=================================================================\n",
      "dense (Dense)                (None, 1)                 11        \n",
      "_________________________________________________________________\n",
      "dense_1 (Dense)              (None, 9)                 18        \n",
      "_________________________________________________________________\n",
      "dense_2 (Dense)              (None, 1)                 10        \n",
      "_________________________________________________________________\n",
      "dense_3 (Dense)              (None, 1)                 2         \n",
      "_________________________________________________________________\n",
      "dense_4 (Dense)              (None, 1)                 2         \n",
      "=================================================================\n",
      "Total params: 43\n",
      "Trainable params: 43\n",
      "Non-trainable params: 0\n",
      "_________________________________________________________________\n"
     ]
    }
   ],
   "source": [
    "model.summary()"
   ]
  },
  {
   "cell_type": "code",
   "execution_count": 11,
   "id": "4e4a7802",
   "metadata": {},
   "outputs": [
    {
     "data": {
      "text/plain": [
       "<keras.optimizer_v2.adam.Adam at 0x14f393455b0>"
      ]
     },
     "execution_count": 11,
     "metadata": {},
     "output_type": "execute_result"
    }
   ],
   "source": [
    "model.optimizer"
   ]
  },
  {
   "cell_type": "code",
   "execution_count": 12,
   "id": "c17743a7",
   "metadata": {},
   "outputs": [
    {
     "name": "stdout",
     "output_type": "stream",
     "text": [
      "Epoch 1/50\n",
      "121/121 [==============================] - 0s 904us/step - loss: 0.6189 - accuracy: 0.9570\n",
      "Epoch 2/50\n",
      "121/121 [==============================] - 0s 866us/step - loss: 0.5444 - accuracy: 0.9570\n",
      "Epoch 3/50\n",
      "121/121 [==============================] - 0s 916us/step - loss: 0.4691 - accuracy: 0.9570\n",
      "Epoch 4/50\n",
      "121/121 [==============================] - 0s 916us/step - loss: 0.4052 - accuracy: 0.9570\n",
      "Epoch 5/50\n",
      "121/121 [==============================] - 0s 885us/step - loss: 0.3556 - accuracy: 0.9570\n",
      "Epoch 6/50\n",
      "121/121 [==============================] - 0s 895us/step - loss: 0.3175 - accuracy: 0.9570\n",
      "Epoch 7/50\n",
      "121/121 [==============================] - 0s 996us/step - loss: 0.2881 - accuracy: 0.9570\n",
      "Epoch 8/50\n",
      "121/121 [==============================] - 0s 911us/step - loss: 0.2651 - accuracy: 0.9570\n",
      "Epoch 9/50\n",
      "121/121 [==============================] - 0s 967us/step - loss: 0.2472 - accuracy: 0.9570\n",
      "Epoch 10/50\n",
      "121/121 [==============================] - 0s 917us/step - loss: 0.2330 - accuracy: 0.9570\n",
      "Epoch 11/50\n",
      "121/121 [==============================] - 0s 869us/step - loss: 0.2218 - accuracy: 0.9570\n",
      "Epoch 12/50\n",
      "121/121 [==============================] - 0s 866us/step - loss: 0.2129 - accuracy: 0.9570\n",
      "Epoch 13/50\n",
      "121/121 [==============================] - 0s 1ms/step - loss: 0.2057 - accuracy: 0.9570\n",
      "Epoch 14/50\n",
      "121/121 [==============================] - 0s 829us/step - loss: 0.2000 - accuracy: 0.9570\n",
      "Epoch 15/50\n",
      "121/121 [==============================] - 0s 874us/step - loss: 0.1954 - accuracy: 0.9570\n",
      "Epoch 16/50\n",
      "121/121 [==============================] - 0s 833us/step - loss: 0.1917 - accuracy: 0.9570\n",
      "Epoch 17/50\n",
      "121/121 [==============================] - 0s 1ms/step - loss: 0.1887 - accuracy: 0.9570\n",
      "Epoch 18/50\n",
      "121/121 [==============================] - 0s 1ms/step - loss: 0.1863 - accuracy: 0.9570\n",
      "Epoch 19/50\n",
      "121/121 [==============================] - 0s 1ms/step - loss: 0.1844 - accuracy: 0.9570\n",
      "Epoch 20/50\n",
      "121/121 [==============================] - 0s 845us/step - loss: 0.1829 - accuracy: 0.9570\n",
      "Epoch 21/50\n",
      "121/121 [==============================] - 0s 898us/step - loss: 0.1817 - accuracy: 0.9570\n",
      "Epoch 22/50\n",
      "121/121 [==============================] - 0s 1ms/step - loss: 0.1807 - accuracy: 0.9570\n",
      "Epoch 23/50\n",
      "121/121 [==============================] - 0s 988us/step - loss: 0.1799 - accuracy: 0.9570\n",
      "Epoch 24/50\n",
      "121/121 [==============================] - 0s 849us/step - loss: 0.1793 - accuracy: 0.9570\n",
      "Epoch 25/50\n",
      "121/121 [==============================] - 0s 936us/step - loss: 0.1788 - accuracy: 0.9570\n",
      "Epoch 26/50\n",
      "121/121 [==============================] - 0s 1ms/step - loss: 0.1784 - accuracy: 0.9570\n",
      "Epoch 27/50\n",
      "121/121 [==============================] - 0s 950us/step - loss: 0.1781 - accuracy: 0.9570\n",
      "Epoch 28/50\n",
      "121/121 [==============================] - 0s 923us/step - loss: 0.1779 - accuracy: 0.9570\n",
      "Epoch 29/50\n",
      "121/121 [==============================] - 0s 859us/step - loss: 0.1777 - accuracy: 0.9570\n",
      "Epoch 30/50\n",
      "121/121 [==============================] - 0s 880us/step - loss: 0.1776 - accuracy: 0.9570\n",
      "Epoch 31/50\n",
      "121/121 [==============================] - 0s 833us/step - loss: 0.1775 - accuracy: 0.9570\n",
      "Epoch 32/50\n",
      "121/121 [==============================] - 0s 883us/step - loss: 0.1774 - accuracy: 0.9570\n",
      "Epoch 33/50\n",
      "121/121 [==============================] - 0s 875us/step - loss: 0.1774 - accuracy: 0.9570\n",
      "Epoch 34/50\n",
      "121/121 [==============================] - 0s 899us/step - loss: 0.1773 - accuracy: 0.9570\n",
      "Epoch 35/50\n",
      "121/121 [==============================] - 0s 1ms/step - loss: 0.1773 - accuracy: 0.9570\n",
      "Epoch 36/50\n",
      "121/121 [==============================] - 0s 1ms/step - loss: 0.1773 - accuracy: 0.9570\n",
      "Epoch 37/50\n",
      "121/121 [==============================] - 0s 1ms/step - loss: 0.1773 - accuracy: 0.9570\n",
      "Epoch 38/50\n",
      "121/121 [==============================] - 0s 799us/step - loss: 0.1773 - accuracy: 0.9570\n",
      "Epoch 39/50\n",
      "121/121 [==============================] - 0s 872us/step - loss: 0.1773 - accuracy: 0.9570\n",
      "Epoch 40/50\n",
      "121/121 [==============================] - 0s 874us/step - loss: 0.1773 - accuracy: 0.9570\n",
      "Epoch 41/50\n",
      "121/121 [==============================] - 0s 817us/step - loss: 0.1773 - accuracy: 0.9570\n",
      "Epoch 42/50\n",
      "121/121 [==============================] - 0s 883us/step - loss: 0.1773 - accuracy: 0.9570\n",
      "Epoch 43/50\n",
      "121/121 [==============================] - 0s 903us/step - loss: 0.1773 - accuracy: 0.9570\n",
      "Epoch 44/50\n",
      "121/121 [==============================] - 0s 948us/step - loss: 0.1773 - accuracy: 0.9570\n",
      "Epoch 45/50\n",
      "121/121 [==============================] - 0s 933us/step - loss: 0.1773 - accuracy: 0.9570\n",
      "Epoch 46/50\n",
      "121/121 [==============================] - 0s 895us/step - loss: 0.1773 - accuracy: 0.9570\n",
      "Epoch 47/50\n",
      "121/121 [==============================] - 0s 830us/step - loss: 0.1773 - accuracy: 0.9570\n",
      "Epoch 48/50\n",
      "121/121 [==============================] - 0s 872us/step - loss: 0.1773 - accuracy: 0.9570\n",
      "Epoch 49/50\n",
      "121/121 [==============================] - 0s 884us/step - loss: 0.1773 - accuracy: 0.9570\n",
      "Epoch 50/50\n",
      "121/121 [==============================] - 0s 852us/step - loss: 0.1773 - accuracy: 0.9570\n"
     ]
    }
   ],
   "source": [
    "fit_model = model.fit(Xtrain, ytrain, epochs=50)"
   ]
  },
  {
   "cell_type": "code",
   "execution_count": 17,
   "id": "1aa53ced",
   "metadata": {},
   "outputs": [
    {
     "name": "stdout",
     "output_type": "stream",
     "text": [
      "31/31 - 0s - loss: 0.1788 - accuracy: 0.9565\n",
      "Loss: 0.17884692549705505, Accuracy: 0.95652174949646\n"
     ]
    }
   ],
   "source": [
    "# Evaluate the model using the test data\n",
    "model_loss, model_accuracy = model.evaluate(Xtest,ytest,verbose=2)\n",
    "print(f\"Loss: {model_loss}, Accuracy: {model_accuracy}\")"
   ]
  },
  {
   "cell_type": "code",
   "execution_count": 18,
   "id": "19a61460",
   "metadata": {},
   "outputs": [],
   "source": [
    "#get prediction of y from the best model\n",
    "predictions = model.predict(Xtest)\n",
    "\n",
    "#round predictions for use in confusion matrix\n",
    "rounded_pred = np.argmax(predictions, axis=1)"
   ]
  },
  {
   "cell_type": "code",
   "execution_count": 19,
   "id": "88b0c002",
   "metadata": {},
   "outputs": [
    {
     "data": {
      "image/png": "[encoded data removed]",
      "text/plain": [
       "<Figure size 432x288 with 2 Axes>"
      ]
     },
     "metadata": {
      "needs_background": "light"
     },
     "output_type": "display_data"
    }
   ],
   "source": [
    "#print confusion matrix\n",
    "cm = confusion_matrix(ytest, rounded_pred)\n",
    "\n",
    "cm_display = ConfusionMatrixDisplay(cm).plot()"
   ]
  },
  {
   "cell_type": "code",
   "execution_count": 20,
   "id": "797dca9e",
   "metadata": {},
   "outputs": [
    {
     "name": "stdout",
     "output_type": "stream",
     "text": [
      "              precision    recall  f1-score   support\n",
      "\n",
      "           0       0.96      1.00      0.98       924\n",
      "           1       0.00      0.00      0.00        42\n",
      "\n",
      "    accuracy                           0.96       966\n",
      "   macro avg       0.48      0.50      0.49       966\n",
      "weighted avg       0.91      0.96      0.94       966\n",
      "\n"
     ]
    },
    {
     "name": "stderr",
     "output_type": "stream",
     "text": [
      "C:\\ProgramData\\Anaconda3\\lib\\site-packages\\sklearn\\metrics\\_classification.py:1245: UndefinedMetricWarning: Precision and F-score are ill-defined and being set to 0.0 in labels with no predicted samples. Use `zero_division` parameter to control this behavior.\n",
      "  _warn_prf(average, modifier, msg_start, len(result))\n",
      "C:\\ProgramData\\Anaconda3\\lib\\site-packages\\sklearn\\metrics\\_classification.py:1245: UndefinedMetricWarning: Precision and F-score are ill-defined and being set to 0.0 in labels with no predicted samples. Use `zero_division` parameter to control this behavior.\n",
      "  _warn_prf(average, modifier, msg_start, len(result))\n",
      "C:\\ProgramData\\Anaconda3\\lib\\site-packages\\sklearn\\metrics\\_classification.py:1245: UndefinedMetricWarning: Precision and F-score are ill-defined and being set to 0.0 in labels with no predicted samples. Use `zero_division` parameter to control this behavior.\n",
      "  _warn_prf(average, modifier, msg_start, len(result))\n"
     ]
    }
   ],
   "source": [
    "print(classification_report(ytest, rounded_pred))"
   ]
  },
  {
   "cell_type": "code",
   "execution_count": null,
   "id": "6af8e95c",
   "metadata": {},
   "outputs": [],
   "source": []
  }
 ],
 "metadata": {
  "kernelspec": {
   "display_name": "Python 3",
   "language": "python",
   "name": "python3"
  },
  "language_info": {
   "codemirror_mode": {
    "name": "ipython",
    "version": 3
   },
   "file_extension": ".py",
   "mimetype": "text/x-python",
   "name": "python",
   "nbconvert_exporter": "python",
   "pygments_lexer": "ipython3",
   "version": "3.8.8"
  }
 },
 "nbformat": 4,
 "nbformat_minor": 5
}
