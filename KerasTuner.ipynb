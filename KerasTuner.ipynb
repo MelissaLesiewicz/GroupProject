{
 "cells": [
  {
   "cell_type": "code",
   "execution_count": 1,
   "id": "83195641",
   "metadata": {},
   "outputs": [],
   "source": [
    "#import libraries\n",
    "%matplotlib inline\n",
    "import os.path\n",
    "import pandas as pd\n",
    "import numpy as np\n",
    "import tensorflow as tf\n",
    "import keras_tuner as kt\n",
    "from sklearn.metrics import confusion_matrix\n",
    "from sklearn.metrics import ConfusionMatrixDisplay\n",
    "import itertools\n",
    "import matplotlib.pyplot as plt"
   ]
  },
  {
   "cell_type": "code",
   "execution_count": 2,
   "id": "2ddaf96a",
   "metadata": {},
   "outputs": [],
   "source": [
    "# Read in the Xtrain, Xtest, ytrain, ytest datasets\n",
    "Xtrain = pd.read_csv('Resources/X_train_actual_balanced_scaled_train_dataset.csv')\n",
    "Xtest = pd.read_csv('Resources/X_test_actual_balanced_scaled_train_dataset.csv')\n",
    "ytrain = pd.read_csv('Resources/y_train_actual_balanced_scaled_train_dataset.csv')\n",
    "ytest = pd.read_csv('Resources/y_test_actual_balanced_scaled_train_dataset.csv')"
   ]
  },
  {
   "cell_type": "code",
   "execution_count": 3,
   "id": "8e37a1be",
   "metadata": {},
   "outputs": [
    {
     "data": {
      "text/html": [
       "<div>\n",
       "<style scoped>\n",
       "    .dataframe tbody tr th:only-of-type {\n",
       "        vertical-align: middle;\n",
       "    }\n",
       "\n",
       "    .dataframe tbody tr th {\n",
       "        vertical-align: top;\n",
       "    }\n",
       "\n",
       "    .dataframe thead th {\n",
       "        text-align: right;\n",
       "    }\n",
       "</style>\n",
       "<table border=\"1\" class=\"dataframe\">\n",
       "  <thead>\n",
       "    <tr style=\"text-align: right;\">\n",
       "      <th></th>\n",
       "      <th>gender</th>\n",
       "      <th>age</th>\n",
       "      <th>hypertension</th>\n",
       "      <th>heart_disease</th>\n",
       "      <th>ever_married</th>\n",
       "      <th>work_type</th>\n",
       "      <th>Residence_type</th>\n",
       "      <th>avg_glucose_level</th>\n",
       "      <th>bmi</th>\n",
       "      <th>smoking_status</th>\n",
       "    </tr>\n",
       "  </thead>\n",
       "  <tbody>\n",
       "    <tr>\n",
       "      <th>0</th>\n",
       "      <td>1.193046</td>\n",
       "      <td>1.054871</td>\n",
       "      <td>-0.488678</td>\n",
       "      <td>-0.343286</td>\n",
       "      <td>0.535557</td>\n",
       "      <td>0.911077</td>\n",
       "      <td>0.947176</td>\n",
       "      <td>0.261246</td>\n",
       "      <td>-0.893721</td>\n",
       "      <td>-0.588710</td>\n",
       "    </tr>\n",
       "    <tr>\n",
       "      <th>1</th>\n",
       "      <td>-0.838191</td>\n",
       "      <td>0.657670</td>\n",
       "      <td>-0.488678</td>\n",
       "      <td>-0.343286</td>\n",
       "      <td>0.535557</td>\n",
       "      <td>-0.117758</td>\n",
       "      <td>-1.055770</td>\n",
       "      <td>-0.261658</td>\n",
       "      <td>0.768508</td>\n",
       "      <td>0.413607</td>\n",
       "    </tr>\n",
       "    <tr>\n",
       "      <th>2</th>\n",
       "      <td>-0.838191</td>\n",
       "      <td>-0.578070</td>\n",
       "      <td>-0.488678</td>\n",
       "      <td>-0.343286</td>\n",
       "      <td>0.535557</td>\n",
       "      <td>-2.175429</td>\n",
       "      <td>0.947176</td>\n",
       "      <td>-0.471103</td>\n",
       "      <td>-0.728995</td>\n",
       "      <td>1.415924</td>\n",
       "    </tr>\n",
       "    <tr>\n",
       "      <th>3</th>\n",
       "      <td>-0.838191</td>\n",
       "      <td>0.083933</td>\n",
       "      <td>-0.488678</td>\n",
       "      <td>-0.343286</td>\n",
       "      <td>0.535557</td>\n",
       "      <td>-2.175429</td>\n",
       "      <td>-1.055770</td>\n",
       "      <td>0.776694</td>\n",
       "      <td>-0.339645</td>\n",
       "      <td>-1.591027</td>\n",
       "    </tr>\n",
       "    <tr>\n",
       "      <th>4</th>\n",
       "      <td>1.193046</td>\n",
       "      <td>-1.857942</td>\n",
       "      <td>-0.488678</td>\n",
       "      <td>-0.343286</td>\n",
       "      <td>-1.867214</td>\n",
       "      <td>1.939913</td>\n",
       "      <td>0.947176</td>\n",
       "      <td>-0.749239</td>\n",
       "      <td>-1.357947</td>\n",
       "      <td>0.413607</td>\n",
       "    </tr>\n",
       "  </tbody>\n",
       "</table>\n",
       "</div>"
      ],
      "text/plain": [
       "     gender       age  hypertension  heart_disease  ever_married  work_type  \\\n",
       "0  1.193046  1.054871     -0.488678      -0.343286      0.535557   0.911077   \n",
       "1 -0.838191  0.657670     -0.488678      -0.343286      0.535557  -0.117758   \n",
       "2 -0.838191 -0.578070     -0.488678      -0.343286      0.535557  -2.175429   \n",
       "3 -0.838191  0.083933     -0.488678      -0.343286      0.535557  -2.175429   \n",
       "4  1.193046 -1.857942     -0.488678      -0.343286     -1.867214   1.939913   \n",
       "\n",
       "   Residence_type  avg_glucose_level       bmi  smoking_status  \n",
       "0        0.947176           0.261246 -0.893721       -0.588710  \n",
       "1       -1.055770          -0.261658  0.768508        0.413607  \n",
       "2        0.947176          -0.471103 -0.728995        1.415924  \n",
       "3       -1.055770           0.776694 -0.339645       -1.591027  \n",
       "4        0.947176          -0.749239 -1.357947        0.413607  "
      ]
     },
     "execution_count": 3,
     "metadata": {},
     "output_type": "execute_result"
    }
   ],
   "source": [
    "Xtrain.head()"
   ]
  },
  {
   "cell_type": "code",
   "execution_count": 4,
   "id": "dc5b22e0",
   "metadata": {},
   "outputs": [],
   "source": [
    "#Create our model for the tuner\n",
    "def create_model(hp):\n",
    "    nn_model = tf.keras.models.Sequential()\n",
    "\n",
    "    # Allow kerastuner to decide which activation function to use in hidden layers\n",
    "    activation = hp.Choice('activation',['relu','tanh','sigmoid'])\n",
    "    \n",
    "    # Allow kerastuner to decide number of neurons in first layer\n",
    "    nn_model.add(tf.keras.layers.Dense(units=hp.Int('first_units',\n",
    "        min_value=1,\n",
    "        max_value=10,\n",
    "        step=2), activation=activation, input_dim=10))\n",
    "\n",
    "    # Allow kerastuner to decide number of hidden layers and neurons in hidden layers\n",
    "    for i in range(hp.Int('num_layers', 1, 6)):\n",
    "        nn_model.add(tf.keras.layers.Dense(units=hp.Int('units_' + str(i),\n",
    "            min_value=1,\n",
    "            max_value=10,\n",
    "            step=2),\n",
    "            activation=activation))\n",
    "    \n",
    "    nn_model.add(tf.keras.layers.Dense(units=1, activation=\"sigmoid\"))\n",
    "\n",
    "    # Compile the model\n",
    "    nn_model.compile(loss=\"binary_crossentropy\", optimizer='adam', metrics=[\"accuracy\"])\n",
    "    \n",
    "    return nn_model"
   ]
  },
  {
   "cell_type": "code",
   "execution_count": 5,
   "id": "4e97cb2a",
   "metadata": {},
   "outputs": [
    {
     "name": "stdout",
     "output_type": "stream",
     "text": [
      "INFO:tensorflow:Reloading Oracle from existing project .\\untitled_project\\oracle.json\n",
      "INFO:tensorflow:Reloading Tuner from .\\untitled_project\\tuner0.json\n"
     ]
    }
   ],
   "source": [
    "# create the tuner\n",
    "tuner = kt.Hyperband(\n",
    "    create_model,\n",
    "    objective=\"val_accuracy\",\n",
    "    max_epochs=20,\n",
    "    hyperband_iterations=2)"
   ]
  },
  {
   "cell_type": "code",
   "execution_count": 6,
   "id": "2176fdf1",
   "metadata": {},
   "outputs": [
    {
     "name": "stdout",
     "output_type": "stream",
     "text": [
      "INFO:tensorflow:Oracle triggered exit\n"
     ]
    }
   ],
   "source": [
    "# Run the kerastuner search for best hyperparameters\n",
    "tuner.search(Xtrain, ytrain ,epochs=20,validation_data=(Xtest, ytest))"
   ]
  },
  {
   "cell_type": "code",
   "execution_count": 7,
   "id": "2e0bb667",
   "metadata": {},
   "outputs": [
    {
     "data": {
      "text/plain": [
       "{'activation': 'tanh',\n",
       " 'first_units': 9,\n",
       " 'num_layers': 1,\n",
       " 'units_0': 3,\n",
       " 'units_1': 7,\n",
       " 'units_2': 5,\n",
       " 'units_3': 3,\n",
       " 'units_4': 5,\n",
       " 'tuner/epochs': 20,\n",
       " 'tuner/initial_epoch': 7,\n",
       " 'tuner/bracket': 2,\n",
       " 'tuner/round': 2,\n",
       " 'tuner/trial_id': '488b429b9d72d12ac85129b7a40df5c5'}"
      ]
     },
     "execution_count": 7,
     "metadata": {},
     "output_type": "execute_result"
    }
   ],
   "source": [
    "# Get best model hyperparameters\n",
    "best_hyper = tuner.get_best_hyperparameters(1)[0]\n",
    "best_hyper.values"
   ]
  },
  {
   "cell_type": "code",
   "execution_count": 8,
   "id": "5717fb1b",
   "metadata": {},
   "outputs": [
    {
     "name": "stdout",
     "output_type": "stream",
     "text": [
      "3/3 - 0s - loss: 0.7379 - accuracy: 0.3929\n",
      "Loss: 0.7378780245780945, Accuracy: 0.3928571343421936\n"
     ]
    }
   ],
   "source": [
    "# Evaluate best model against full test data\n",
    "best_model = tuner.get_best_models(1)[0]\n",
    "model_loss, model_accuracy = best_model.evaluate(Xtest, ytest, verbose=2)\n",
    "print(f\"Loss: {model_loss}, Accuracy: {model_accuracy}\")"
   ]
  },
  {
   "cell_type": "code",
   "execution_count": 9,
   "id": "39c6a9bd",
   "metadata": {},
   "outputs": [
    {
     "data": {
      "text/plain": [
       "array([0, 0, 0, 0, 0, 0, 0, 0, 0, 0, 0, 0, 0, 0, 0, 0, 0, 0, 0, 0, 0, 0,\n",
       "       0, 0, 0, 0, 0, 0, 0, 0, 0, 0, 0, 0, 0, 0, 0, 0, 0, 0, 0, 0, 0, 0,\n",
       "       0, 0, 0, 0, 0, 0, 0, 0, 0, 0, 0, 0, 0, 0, 0, 0, 0, 0, 0, 0, 0, 0,\n",
       "       0, 0, 0, 0, 0, 0, 0, 0, 0, 0, 0, 0, 0, 0, 0, 0, 0, 0], dtype=int64)"
      ]
     },
     "execution_count": 9,
     "metadata": {},
     "output_type": "execute_result"
    }
   ],
   "source": [
    "#get prediction of y from the best model\n",
    "predictions = best_model.predict(Xtest)\n",
    "\n",
    "#round predictions for use in confusion matrix\n",
    "rounded_pred = np.argmax(predictions, axis=1)\n",
    "rounded_pred"
   ]
  },
  {
   "cell_type": "code",
   "execution_count": 10,
   "id": "01bf4991",
   "metadata": {},
   "outputs": [
    {
     "data": {
      "image/png": "[encoded data removed]",
      "text/plain": [
       "<Figure size 432x288 with 2 Axes>"
      ]
     },
     "metadata": {
      "needs_background": "light"
     },
     "output_type": "display_data"
    }
   ],
   "source": [
    "#print confusion matrix\n",
    "cm = confusion_matrix(ytest, rounded_pred)\n",
    "\n",
    "cm_display = ConfusionMatrixDisplay(cm).plot()\n",
    "    "
   ]
  },
  {
   "cell_type": "code",
   "execution_count": 11,
   "id": "34add501",
   "metadata": {},
   "outputs": [],
   "source": [
    "if os.path.isfile('Models/actual_scaled_best.h5') is False:\n",
    "    best_model.save('Models/actual_scaled_best.h5')"
   ]
  },
  {
   "cell_type": "code",
   "execution_count": null,
   "id": "37ddbeca",
   "metadata": {},
   "outputs": [],
   "source": []
  }
 ],
 "metadata": {
  "kernelspec": {
   "display_name": "Python 3",
   "language": "python",
   "name": "python3"
  },
  "language_info": {
   "codemirror_mode": {
    "name": "ipython",
    "version": 3
   },
   "file_extension": ".py",
   "mimetype": "text/x-python",
   "name": "python",
   "nbconvert_exporter": "python",
   "pygments_lexer": "ipython3",
   "version": "3.8.8"
  }
 },
 "nbformat": 4,
 "nbformat_minor": 5
}
