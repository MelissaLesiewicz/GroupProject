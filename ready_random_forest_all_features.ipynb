{
 "cells": [
  {
   "cell_type": "code",
   "execution_count": 1,
   "id": "8871b34a",
   "metadata": {},
   "outputs": [],
   "source": [
    "# Initial imports.\n",
    "import pandas as pd\n",
    "from path import Path\n",
    "from sklearn.ensemble import RandomForestClassifier\n",
    "from sklearn.preprocessing import StandardScaler, MinMaxScaler\n",
    "from sklearn.model_selection import train_test_split\n",
    "from sklearn.metrics import confusion_matrix, accuracy_score, classification_report\n",
    "from sklearn.preprocessing import LabelEncoder\n",
    "from imblearn.under_sampling import RandomUnderSampler\n",
    "from imblearn.over_sampling import RandomOverSampler\n",
    "from imblearn.combine import SMOTEENN\n",
    "from collections import Counter"
   ]
  },
  {
   "cell_type": "code",
   "execution_count": 8,
   "id": "870ab727",
   "metadata": {
    "scrolled": false
   },
   "outputs": [
    {
     "data": {
      "text/plain": [
       "0      1\n",
       "1      0\n",
       "2      0\n",
       "3      1\n",
       "4      0\n",
       "      ..\n",
       "327    1\n",
       "328    1\n",
       "329    0\n",
       "330    0\n",
       "331    1\n",
       "Name: stroke, Length: 332, dtype: int64"
      ]
     },
     "execution_count": 8,
     "metadata": {},
     "output_type": "execute_result"
    }
   ],
   "source": [
    "# Data Import\n",
    "x_train_file = Path(\"Resources/X_train_actual_balanced_scaled_train_dataset.csv\")\n",
    "x_test_file = Path(\"Resources/X_test_actual_balanced_scaled_train_dataset.csv\")\n",
    "y_train_file = Path(\"Resources/y_train_actual_balanced_scaled_train_dataset.csv\")\n",
    "y_test_file = Path(\"Resources/y_test_actual_balanced_scaled_train_dataset.csv\")\n",
    "\n",
    "X_train = pd.read_csv(x_train_file)\n",
    "X_test = pd.read_csv(x_test_file)\n",
    "y_train = pd.read_csv(y_train_file)\n",
    "y_test = pd.read_csv(y_test_file)\n",
    "\n",
    "y_train = y_train['stroke']\n",
    "y_test = y_test['stroke']\n",
    "\n",
    "y_train"
   ]
  },
  {
   "cell_type": "markdown",
   "id": "bb38f586",
   "metadata": {},
   "source": [
    "#### Model Raw Data (Medical Only)"
   ]
  },
  {
   "cell_type": "code",
   "execution_count": 9,
   "id": "ce5c0949",
   "metadata": {},
   "outputs": [],
   "source": [
    "# Create model instance\n",
    "rf_model = RandomForestClassifier(n_estimators=512) "
   ]
  },
  {
   "cell_type": "code",
   "execution_count": 10,
   "id": "04d68f2b",
   "metadata": {},
   "outputs": [],
   "source": [
    "# Fit the model\n",
    "rf_model = rf_model.fit(X_train, y_train)"
   ]
  },
  {
   "cell_type": "code",
   "execution_count": 11,
   "id": "1970f885",
   "metadata": {},
   "outputs": [],
   "source": [
    "# Making predictions\n",
    "predictions = rf_model.predict(X_test)"
   ]
  },
  {
   "cell_type": "code",
   "execution_count": 12,
   "id": "b6dba663",
   "metadata": {},
   "outputs": [],
   "source": [
    "# confusion matrix.\n",
    "cm = confusion_matrix(y_test, predictions)\n",
    "\n",
    "cm_df = pd.DataFrame(\n",
    "    cm, index=[\"Actual 0\", \"Actual 1\"], columns=[\"Predicted 0\", \"Predicted 1\"])"
   ]
  },
  {
   "cell_type": "code",
   "execution_count": 13,
   "id": "317bb14b",
   "metadata": {},
   "outputs": [],
   "source": [
    "# accuracy score.\n",
    "acc_score = accuracy_score(y_test, predictions)"
   ]
  },
  {
   "cell_type": "code",
   "execution_count": 14,
   "id": "2d0c5a5a",
   "metadata": {
    "scrolled": true
   },
   "outputs": [
    {
     "name": "stdout",
     "output_type": "stream",
     "text": [
      "Confusion Matrix\n"
     ]
    },
    {
     "data": {
      "text/html": [
       "<div>\n",
       "<style scoped>\n",
       "    .dataframe tbody tr th:only-of-type {\n",
       "        vertical-align: middle;\n",
       "    }\n",
       "\n",
       "    .dataframe tbody tr th {\n",
       "        vertical-align: top;\n",
       "    }\n",
       "\n",
       "    .dataframe thead th {\n",
       "        text-align: right;\n",
       "    }\n",
       "</style>\n",
       "<table border=\"1\" class=\"dataframe\">\n",
       "  <thead>\n",
       "    <tr style=\"text-align: right;\">\n",
       "      <th></th>\n",
       "      <th>Predicted 0</th>\n",
       "      <th>Predicted 1</th>\n",
       "    </tr>\n",
       "  </thead>\n",
       "  <tbody>\n",
       "    <tr>\n",
       "      <th>Actual 0</th>\n",
       "      <td>33</td>\n",
       "      <td>9</td>\n",
       "    </tr>\n",
       "    <tr>\n",
       "      <th>Actual 1</th>\n",
       "      <td>5</td>\n",
       "      <td>37</td>\n",
       "    </tr>\n",
       "  </tbody>\n",
       "</table>\n",
       "</div>"
      ],
      "text/plain": [
       "          Predicted 0  Predicted 1\n",
       "Actual 0           33            9\n",
       "Actual 1            5           37"
      ]
     },
     "metadata": {},
     "output_type": "display_data"
    },
    {
     "name": "stdout",
     "output_type": "stream",
     "text": [
      "Accuracy Score : 0.8333333333333334\n",
      "Classification Report\n",
      "              precision    recall  f1-score   support\n",
      "\n",
      "           0       0.87      0.79      0.82        42\n",
      "           1       0.80      0.88      0.84        42\n",
      "\n",
      "    accuracy                           0.83        84\n",
      "   macro avg       0.84      0.83      0.83        84\n",
      "weighted avg       0.84      0.83      0.83        84\n",
      "\n"
     ]
    }
   ],
   "source": [
    "# results\n",
    "print(\"Confusion Matrix\")\n",
    "display(cm_df)\n",
    "print(f\"Accuracy Score : {acc_score}\")\n",
    "print(\"Classification Report\")\n",
    "print(classification_report(y_test, predictions))"
   ]
  },
  {
   "cell_type": "code",
   "execution_count": 15,
   "id": "156f06da",
   "metadata": {},
   "outputs": [
    {
     "data": {
      "text/plain": [
       "array([0.02364544, 0.37726349, 0.04999569, 0.02513882, 0.03105617,\n",
       "       0.0516164 , 0.02240673, 0.21158538, 0.15317452, 0.05411737])"
      ]
     },
     "execution_count": 15,
     "metadata": {},
     "output_type": "execute_result"
    }
   ],
   "source": [
    "importances = rf_model.feature_importances_\n",
    "importances"
   ]
  },
  {
   "cell_type": "code",
   "execution_count": 17,
   "id": "d9b6680f",
   "metadata": {},
   "outputs": [
    {
     "data": {
      "text/plain": [
       "[(0.3772634852141376, 'age'),\n",
       " (0.2115853760756451, 'avg_glucose_level'),\n",
       " (0.15317451733345622, 'bmi'),\n",
       " (0.0541173679311521, 'smoking_status'),\n",
       " (0.05161640336187801, 'work_type'),\n",
       " (0.049995690318026434, 'hypertension'),\n",
       " (0.031056171482313738, 'ever_married'),\n",
       " (0.025138819584997453, 'heart_disease'),\n",
       " (0.02364543705958039, 'gender'),\n",
       " (0.02240673163881297, 'Residence_type')]"
      ]
     },
     "execution_count": 17,
     "metadata": {},
     "output_type": "execute_result"
    }
   ],
   "source": [
    "sorted(zip(rf_model.feature_importances_, X_train.columns), reverse=True)"
   ]
  },
  {
   "cell_type": "code",
   "execution_count": null,
   "id": "0abab2af",
   "metadata": {},
   "outputs": [],
   "source": []
  }
 ],
 "metadata": {
  "kernelspec": {
   "display_name": "mlenv",
   "language": "python",
   "name": "mlenv"
  },
  "language_info": {
   "codemirror_mode": {
    "name": "ipython",
    "version": 3
   },
   "file_extension": ".py",
   "mimetype": "text/x-python",
   "name": "python",
   "nbconvert_exporter": "python",
   "pygments_lexer": "ipython3",
   "version": "3.7.10"
  }
 },
 "nbformat": 4,
 "nbformat_minor": 5
}
