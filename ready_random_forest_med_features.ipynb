{
 "cells": [
  {
   "cell_type": "code",
   "execution_count": 1,
   "id": "8871b34a",
   "metadata": {},
   "outputs": [],
   "source": [
    "# Initial imports.\n",
    "import pandas as pd\n",
    "from path import Path\n",
    "from sklearn.ensemble import RandomForestClassifier\n",
    "from sklearn.preprocessing import StandardScaler, MinMaxScaler\n",
    "from sklearn.model_selection import train_test_split\n",
    "from sklearn.metrics import confusion_matrix, accuracy_score, classification_report\n",
    "from sklearn.preprocessing import LabelEncoder\n",
    "from imblearn.under_sampling import RandomUnderSampler\n",
    "from imblearn.over_sampling import RandomOverSampler\n",
    "from imblearn.combine import SMOTEENN\n",
    "from collections import Counter"
   ]
  },
  {
   "cell_type": "code",
   "execution_count": 2,
   "id": "870ab727",
   "metadata": {
    "scrolled": false
   },
   "outputs": [
    {
     "data": {
      "text/html": [
       "<div>\n",
       "<style scoped>\n",
       "    .dataframe tbody tr th:only-of-type {\n",
       "        vertical-align: middle;\n",
       "    }\n",
       "\n",
       "    .dataframe tbody tr th {\n",
       "        vertical-align: top;\n",
       "    }\n",
       "\n",
       "    .dataframe thead th {\n",
       "        text-align: right;\n",
       "    }\n",
       "</style>\n",
       "<table border=\"1\" class=\"dataframe\">\n",
       "  <thead>\n",
       "    <tr style=\"text-align: right;\">\n",
       "      <th></th>\n",
       "      <th>gender</th>\n",
       "      <th>age</th>\n",
       "      <th>hypertension</th>\n",
       "      <th>heart_disease</th>\n",
       "      <th>avg_glucose_level</th>\n",
       "      <th>bmi</th>\n",
       "      <th>smoking_status</th>\n",
       "    </tr>\n",
       "  </thead>\n",
       "  <tbody>\n",
       "    <tr>\n",
       "      <th>0</th>\n",
       "      <td>1.193046</td>\n",
       "      <td>1.054871</td>\n",
       "      <td>-0.488678</td>\n",
       "      <td>-0.343286</td>\n",
       "      <td>0.261246</td>\n",
       "      <td>-0.893721</td>\n",
       "      <td>-0.588710</td>\n",
       "    </tr>\n",
       "    <tr>\n",
       "      <th>1</th>\n",
       "      <td>-0.838191</td>\n",
       "      <td>0.657670</td>\n",
       "      <td>-0.488678</td>\n",
       "      <td>-0.343286</td>\n",
       "      <td>-0.261658</td>\n",
       "      <td>0.768508</td>\n",
       "      <td>0.413607</td>\n",
       "    </tr>\n",
       "    <tr>\n",
       "      <th>2</th>\n",
       "      <td>-0.838191</td>\n",
       "      <td>-0.578070</td>\n",
       "      <td>-0.488678</td>\n",
       "      <td>-0.343286</td>\n",
       "      <td>-0.471103</td>\n",
       "      <td>-0.728995</td>\n",
       "      <td>1.415924</td>\n",
       "    </tr>\n",
       "    <tr>\n",
       "      <th>3</th>\n",
       "      <td>-0.838191</td>\n",
       "      <td>0.083933</td>\n",
       "      <td>-0.488678</td>\n",
       "      <td>-0.343286</td>\n",
       "      <td>0.776694</td>\n",
       "      <td>-0.339645</td>\n",
       "      <td>-1.591027</td>\n",
       "    </tr>\n",
       "    <tr>\n",
       "      <th>4</th>\n",
       "      <td>1.193046</td>\n",
       "      <td>-1.857942</td>\n",
       "      <td>-0.488678</td>\n",
       "      <td>-0.343286</td>\n",
       "      <td>-0.749239</td>\n",
       "      <td>-1.357947</td>\n",
       "      <td>0.413607</td>\n",
       "    </tr>\n",
       "    <tr>\n",
       "      <th>...</th>\n",
       "      <td>...</td>\n",
       "      <td>...</td>\n",
       "      <td>...</td>\n",
       "      <td>...</td>\n",
       "      <td>...</td>\n",
       "      <td>...</td>\n",
       "      <td>...</td>\n",
       "    </tr>\n",
       "    <tr>\n",
       "      <th>327</th>\n",
       "      <td>1.193046</td>\n",
       "      <td>-0.004334</td>\n",
       "      <td>-0.488678</td>\n",
       "      <td>-0.343286</td>\n",
       "      <td>-0.838697</td>\n",
       "      <td>-0.159944</td>\n",
       "      <td>0.413607</td>\n",
       "    </tr>\n",
       "    <tr>\n",
       "      <th>328</th>\n",
       "      <td>-0.838191</td>\n",
       "      <td>0.701803</td>\n",
       "      <td>-0.488678</td>\n",
       "      <td>-0.343286</td>\n",
       "      <td>1.830134</td>\n",
       "      <td>2.685312</td>\n",
       "      <td>0.413607</td>\n",
       "    </tr>\n",
       "    <tr>\n",
       "      <th>329</th>\n",
       "      <td>-0.838191</td>\n",
       "      <td>-0.136734</td>\n",
       "      <td>-0.488678</td>\n",
       "      <td>-0.343286</td>\n",
       "      <td>-0.583635</td>\n",
       "      <td>0.139556</td>\n",
       "      <td>0.413607</td>\n",
       "    </tr>\n",
       "    <tr>\n",
       "      <th>330</th>\n",
       "      <td>-0.838191</td>\n",
       "      <td>-0.710470</td>\n",
       "      <td>-0.488678</td>\n",
       "      <td>-0.343286</td>\n",
       "      <td>1.379649</td>\n",
       "      <td>0.483982</td>\n",
       "      <td>0.413607</td>\n",
       "    </tr>\n",
       "    <tr>\n",
       "      <th>331</th>\n",
       "      <td>-0.838191</td>\n",
       "      <td>1.054871</td>\n",
       "      <td>2.046338</td>\n",
       "      <td>-0.343286</td>\n",
       "      <td>1.515788</td>\n",
       "      <td>2.415761</td>\n",
       "      <td>0.413607</td>\n",
       "    </tr>\n",
       "  </tbody>\n",
       "</table>\n",
       "<p>332 rows × 7 columns</p>\n",
       "</div>"
      ],
      "text/plain": [
       "       gender       age  hypertension  heart_disease  avg_glucose_level  \\\n",
       "0    1.193046  1.054871     -0.488678      -0.343286           0.261246   \n",
       "1   -0.838191  0.657670     -0.488678      -0.343286          -0.261658   \n",
       "2   -0.838191 -0.578070     -0.488678      -0.343286          -0.471103   \n",
       "3   -0.838191  0.083933     -0.488678      -0.343286           0.776694   \n",
       "4    1.193046 -1.857942     -0.488678      -0.343286          -0.749239   \n",
       "..        ...       ...           ...            ...                ...   \n",
       "327  1.193046 -0.004334     -0.488678      -0.343286          -0.838697   \n",
       "328 -0.838191  0.701803     -0.488678      -0.343286           1.830134   \n",
       "329 -0.838191 -0.136734     -0.488678      -0.343286          -0.583635   \n",
       "330 -0.838191 -0.710470     -0.488678      -0.343286           1.379649   \n",
       "331 -0.838191  1.054871      2.046338      -0.343286           1.515788   \n",
       "\n",
       "          bmi  smoking_status  \n",
       "0   -0.893721       -0.588710  \n",
       "1    0.768508        0.413607  \n",
       "2   -0.728995        1.415924  \n",
       "3   -0.339645       -1.591027  \n",
       "4   -1.357947        0.413607  \n",
       "..        ...             ...  \n",
       "327 -0.159944        0.413607  \n",
       "328  2.685312        0.413607  \n",
       "329  0.139556        0.413607  \n",
       "330  0.483982        0.413607  \n",
       "331  2.415761        0.413607  \n",
       "\n",
       "[332 rows x 7 columns]"
      ]
     },
     "execution_count": 2,
     "metadata": {},
     "output_type": "execute_result"
    }
   ],
   "source": [
    "# Data Import\n",
    "x_train_file = Path(\"Resources/X_train_actual_balanced_scaled_train_dataset.csv\")\n",
    "x_test_file = Path(\"Resources/X_test_actual_balanced_scaled_train_dataset.csv\")\n",
    "y_train_file = Path(\"Resources/y_train_actual_balanced_scaled_train_dataset.csv\")\n",
    "y_test_file = Path(\"Resources/y_test_actual_balanced_scaled_train_dataset.csv\")\n",
    "\n",
    "X_train = pd.read_csv(x_train_file)\n",
    "X_test = pd.read_csv(x_test_file)\n",
    "y_train = pd.read_csv(y_train_file)\n",
    "y_test = pd.read_csv(y_test_file)\n",
    "\n",
    "X_train.drop(columns=['work_type','ever_married','Residence_type'], inplace=True)\n",
    "X_test.drop(columns=['work_type','ever_married','Residence_type'], inplace=True)\n",
    "\n",
    "y_train = y_train['stroke']\n",
    "y_test = y_test['stroke']\n",
    "\n",
    "X_train"
   ]
  },
  {
   "cell_type": "markdown",
   "id": "bb38f586",
   "metadata": {},
   "source": [
    "#### Model Raw Data (Medical Only)"
   ]
  },
  {
   "cell_type": "code",
   "execution_count": 3,
   "id": "ce5c0949",
   "metadata": {},
   "outputs": [],
   "source": [
    "# Create model instance\n",
    "rf_model = RandomForestClassifier(n_estimators=512) "
   ]
  },
  {
   "cell_type": "code",
   "execution_count": 4,
   "id": "04d68f2b",
   "metadata": {},
   "outputs": [],
   "source": [
    "# Fit the model\n",
    "rf_model = rf_model.fit(X_train, y_train)"
   ]
  },
  {
   "cell_type": "code",
   "execution_count": 5,
   "id": "1970f885",
   "metadata": {},
   "outputs": [],
   "source": [
    "# Making predictions\n",
    "predictions = rf_model.predict(X_test)"
   ]
  },
  {
   "cell_type": "code",
   "execution_count": 6,
   "id": "b6dba663",
   "metadata": {},
   "outputs": [],
   "source": [
    "# confusion matrix.\n",
    "cm = confusion_matrix(y_test, predictions)\n",
    "\n",
    "cm_df = pd.DataFrame(\n",
    "    cm, index=[\"Actual 0\", \"Actual 1\"], columns=[\"Predicted 0\", \"Predicted 1\"])"
   ]
  },
  {
   "cell_type": "code",
   "execution_count": 7,
   "id": "317bb14b",
   "metadata": {},
   "outputs": [],
   "source": [
    "# accuracy score.\n",
    "acc_score = accuracy_score(y_test, predictions)"
   ]
  },
  {
   "cell_type": "code",
   "execution_count": 8,
   "id": "2d0c5a5a",
   "metadata": {
    "scrolled": true
   },
   "outputs": [
    {
     "name": "stdout",
     "output_type": "stream",
     "text": [
      "Confusion Matrix\n"
     ]
    },
    {
     "data": {
      "text/html": [
       "<div>\n",
       "<style scoped>\n",
       "    .dataframe tbody tr th:only-of-type {\n",
       "        vertical-align: middle;\n",
       "    }\n",
       "\n",
       "    .dataframe tbody tr th {\n",
       "        vertical-align: top;\n",
       "    }\n",
       "\n",
       "    .dataframe thead th {\n",
       "        text-align: right;\n",
       "    }\n",
       "</style>\n",
       "<table border=\"1\" class=\"dataframe\">\n",
       "  <thead>\n",
       "    <tr style=\"text-align: right;\">\n",
       "      <th></th>\n",
       "      <th>Predicted 0</th>\n",
       "      <th>Predicted 1</th>\n",
       "    </tr>\n",
       "  </thead>\n",
       "  <tbody>\n",
       "    <tr>\n",
       "      <th>Actual 0</th>\n",
       "      <td>34</td>\n",
       "      <td>8</td>\n",
       "    </tr>\n",
       "    <tr>\n",
       "      <th>Actual 1</th>\n",
       "      <td>7</td>\n",
       "      <td>35</td>\n",
       "    </tr>\n",
       "  </tbody>\n",
       "</table>\n",
       "</div>"
      ],
      "text/plain": [
       "          Predicted 0  Predicted 1\n",
       "Actual 0           34            8\n",
       "Actual 1            7           35"
      ]
     },
     "metadata": {},
     "output_type": "display_data"
    },
    {
     "name": "stdout",
     "output_type": "stream",
     "text": [
      "Accuracy Score : 0.8214285714285714\n",
      "Classification Report\n",
      "              precision    recall  f1-score   support\n",
      "\n",
      "           0       0.83      0.81      0.82        42\n",
      "           1       0.81      0.83      0.82        42\n",
      "\n",
      "    accuracy                           0.82        84\n",
      "   macro avg       0.82      0.82      0.82        84\n",
      "weighted avg       0.82      0.82      0.82        84\n",
      "\n"
     ]
    }
   ],
   "source": [
    "# results\n",
    "print(\"Confusion Matrix\")\n",
    "display(cm_df)\n",
    "print(f\"Accuracy Score : {acc_score}\")\n",
    "print(\"Classification Report\")\n",
    "print(classification_report(y_test, predictions))"
   ]
  },
  {
   "cell_type": "code",
   "execution_count": 9,
   "id": "156f06da",
   "metadata": {},
   "outputs": [
    {
     "data": {
      "text/plain": [
       "array([0.02349461, 0.41710416, 0.05492538, 0.02842996, 0.23619688,\n",
       "       0.18101173, 0.05883728])"
      ]
     },
     "execution_count": 9,
     "metadata": {},
     "output_type": "execute_result"
    }
   ],
   "source": [
    "importances = rf_model.feature_importances_\n",
    "importances"
   ]
  },
  {
   "cell_type": "code",
   "execution_count": 10,
   "id": "d9b6680f",
   "metadata": {},
   "outputs": [
    {
     "data": {
      "text/plain": [
       "[(0.41710416407034695, 'age'),\n",
       " (0.2361968813807764, 'avg_glucose_level'),\n",
       " (0.18101173494305559, 'bmi'),\n",
       " (0.05883728028498999, 'smoking_status'),\n",
       " (0.05492537719175291, 'hypertension'),\n",
       " (0.028429956183012296, 'heart_disease'),\n",
       " (0.023494605946065835, 'gender')]"
      ]
     },
     "execution_count": 10,
     "metadata": {},
     "output_type": "execute_result"
    }
   ],
   "source": [
    "sorted(zip(rf_model.feature_importances_, X_train.columns), reverse=True)"
   ]
  },
  {
   "cell_type": "code",
   "execution_count": null,
   "id": "0abab2af",
   "metadata": {},
   "outputs": [],
   "source": []
  }
 ],
 "metadata": {
  "kernelspec": {
   "display_name": "mlenv",
   "language": "python",
   "name": "mlenv"
  },
  "language_info": {
   "codemirror_mode": {
    "name": "ipython",
    "version": 3
   },
   "file_extension": ".py",
   "mimetype": "text/x-python",
   "name": "python",
   "nbconvert_exporter": "python",
   "pygments_lexer": "ipython3",
   "version": "3.7.10"
  }
 },
 "nbformat": 4,
 "nbformat_minor": 5
}
