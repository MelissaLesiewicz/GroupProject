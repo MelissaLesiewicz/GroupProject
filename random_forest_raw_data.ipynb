{
 "cells": [
  {
   "cell_type": "code",
   "execution_count": 3,
   "id": "8871b34a",
   "metadata": {},
   "outputs": [],
   "source": [
    "# Initial imports.\n",
    "import pandas as pd\n",
    "from path import Path\n",
    "from sklearn.ensemble import RandomForestClassifier\n",
    "from sklearn.preprocessing import StandardScaler, MinMaxScaler\n",
    "from sklearn.model_selection import train_test_split\n",
    "from sklearn.metrics import confusion_matrix, accuracy_score, classification_report\n",
    "from sklearn.preprocessing import LabelEncoder\n",
    "from imblearn.under_sampling import RandomUnderSampler\n",
    "from imblearn.over_sampling import RandomOverSampler\n",
    "from imblearn.combine import SMOTEENN\n",
    "from collections import Counter"
   ]
  },
  {
   "cell_type": "code",
   "execution_count": null,
   "id": "742edcf1",
   "metadata": {},
   "outputs": [],
   "source": [
    "# Data Import\n",
    "file_path = Path(\"Resources/healthcare-dataset-stroke-data.csv\")\n",
    "\n",
    "stroke_df = pd.read_csv(file_path)\n",
    "\n"
   ]
  },
  {
   "cell_type": "markdown",
   "id": "b7406337",
   "metadata": {},
   "source": [
    "#### Model Raw Data"
   ]
  },
  {
   "cell_type": "code",
   "execution_count": 9,
   "id": "ce5c0949",
   "metadata": {},
   "outputs": [],
   "source": [
    "# Create model instance\n",
    "rf_model = RandomForestClassifier(n_estimators=512) "
   ]
  },
  {
   "cell_type": "code",
   "execution_count": 10,
   "id": "04d68f2b",
   "metadata": {},
   "outputs": [],
   "source": [
    "# Fit the model\n",
    "rf_model = rf_model.fit(X_train_scaled, y_train)"
   ]
  },
  {
   "cell_type": "code",
   "execution_count": 11,
   "id": "1970f885",
   "metadata": {},
   "outputs": [],
   "source": [
    "# Making predictions\n",
    "predictions = rf_model.predict(X_test)"
   ]
  },
  {
   "cell_type": "code",
   "execution_count": 12,
   "id": "b6dba663",
   "metadata": {},
   "outputs": [],
   "source": [
    "# confusion matrix.\n",
    "cm = confusion_matrix(y_test, predictions)\n",
    "\n",
    "cm_df = pd.DataFrame(\n",
    "    cm, index=[\"Actual 0\", \"Actual 1\"], columns=[\"Predicted 0\", \"Predicted 1\"])"
   ]
  },
  {
   "cell_type": "code",
   "execution_count": 13,
   "id": "317bb14b",
   "metadata": {},
   "outputs": [],
   "source": [
    "# accuracy score.\n",
    "acc_score = accuracy_score(y_test, predictions)"
   ]
  },
  {
   "cell_type": "code",
   "execution_count": 14,
   "id": "2d0c5a5a",
   "metadata": {
    "scrolled": true
   },
   "outputs": [
    {
     "name": "stdout",
     "output_type": "stream",
     "text": [
      "Confusion Matrix\n"
     ]
    },
    {
     "data": {
      "text/html": [
       "<div>\n",
       "<style scoped>\n",
       "    .dataframe tbody tr th:only-of-type {\n",
       "        vertical-align: middle;\n",
       "    }\n",
       "\n",
       "    .dataframe tbody tr th {\n",
       "        vertical-align: top;\n",
       "    }\n",
       "\n",
       "    .dataframe thead th {\n",
       "        text-align: right;\n",
       "    }\n",
       "</style>\n",
       "<table border=\"1\" class=\"dataframe\">\n",
       "  <thead>\n",
       "    <tr style=\"text-align: right;\">\n",
       "      <th></th>\n",
       "      <th>Predicted 0</th>\n",
       "      <th>Predicted 1</th>\n",
       "    </tr>\n",
       "  </thead>\n",
       "  <tbody>\n",
       "    <tr>\n",
       "      <th>Actual 0</th>\n",
       "      <td>1121</td>\n",
       "      <td>55</td>\n",
       "    </tr>\n",
       "    <tr>\n",
       "      <th>Actual 1</th>\n",
       "      <td>49</td>\n",
       "      <td>3</td>\n",
       "    </tr>\n",
       "  </tbody>\n",
       "</table>\n",
       "</div>"
      ],
      "text/plain": [
       "          Predicted 0  Predicted 1\n",
       "Actual 0         1121           55\n",
       "Actual 1           49            3"
      ]
     },
     "metadata": {},
     "output_type": "display_data"
    },
    {
     "name": "stdout",
     "output_type": "stream",
     "text": [
      "Accuracy Score : 0.9153094462540716\n",
      "Classification Report\n",
      "              precision    recall  f1-score   support\n",
      "\n",
      "           0       0.96      0.95      0.96      1176\n",
      "           1       0.05      0.06      0.05        52\n",
      "\n",
      "    accuracy                           0.92      1228\n",
      "   macro avg       0.50      0.51      0.51      1228\n",
      "weighted avg       0.92      0.92      0.92      1228\n",
      "\n"
     ]
    }
   ],
   "source": [
    "# results\n",
    "print(\"Confusion Matrix\")\n",
    "display(cm_df)\n",
    "print(f\"Accuracy Score : {acc_score}\")\n",
    "print(\"Classification Report\")\n",
    "print(classification_report(y_test, predictions))"
   ]
  },
  {
   "cell_type": "code",
   "execution_count": 15,
   "id": "8256dc65",
   "metadata": {},
   "outputs": [
    {
     "data": {
      "text/plain": [
       "array([2.33747106e-01, 2.95266673e-02, 2.50360063e-02, 2.61727967e-01,\n",
       "       2.22534942e-01, 1.89432223e-02, 1.86657409e-02, 1.00019615e-02,\n",
       "       8.82998773e-03, 1.48126673e-02, 2.03119582e-05, 2.17486366e-02,\n",
       "       1.89906697e-02, 1.02298308e-03, 2.19809219e-02, 1.99601077e-02,\n",
       "       1.46417650e-02, 2.00882514e-02, 2.13650272e-02, 1.63550568e-02])"
      ]
     },
     "execution_count": 15,
     "metadata": {},
     "output_type": "execute_result"
    }
   ],
   "source": [
    "importances = rf_model.feature_importances_\n",
    "importances"
   ]
  },
  {
   "cell_type": "code",
   "execution_count": 16,
   "id": "2b6f5f00",
   "metadata": {},
   "outputs": [
    {
     "data": {
      "text/plain": [
       "[(0.26172796701585205, 'avg_glucose_level'),\n",
       " (0.23374710602266666, 'age'),\n",
       " (0.22253494227555923, 'bmi'),\n",
       " (0.029526667280494724, 'hypertension'),\n",
       " (0.025036006348126964, 'heart_disease'),\n",
       " (0.021980921869996832, 'Residence_type_Rural'),\n",
       " (0.021748636560630977, 'work_type_Private'),\n",
       " (0.02136502717558019, 'smoking_status_never smoked'),\n",
       " (0.020088251418499858, 'smoking_status_formerly smoked'),\n",
       " (0.019960107738395766, 'Residence_type_Urban'),\n",
       " (0.018990669663265576, 'work_type_Self-employed'),\n",
       " (0.01894322233011106, 'gender_Female'),\n",
       " (0.01866574089173616, 'gender_Male'),\n",
       " (0.016355056782959614, 'smoking_status_smokes'),\n",
       " (0.014812667346607874, 'work_type_Govt_job'),\n",
       " (0.014641765004580745, 'smoking_status_Unknown'),\n",
       " (0.010001961505149303, 'ever_married_No'),\n",
       " (0.008829987732457465, 'ever_married_Yes'),\n",
       " (0.0010229830791561253, 'work_type_children'),\n",
       " (2.0311958172861572e-05, 'work_type_Never_worked')]"
      ]
     },
     "execution_count": 16,
     "metadata": {},
     "output_type": "execute_result"
    }
   ],
   "source": [
    "sorted(zip(rf_model.feature_importances_, X.columns), reverse=True)"
   ]
  },
  {
   "cell_type": "code",
   "execution_count": null,
   "id": "c34a2569",
   "metadata": {},
   "outputs": [],
   "source": []
  }
 ],
 "metadata": {
  "kernelspec": {
   "display_name": "mlenv",
   "language": "python",
   "name": "mlenv"
  },
  "language_info": {
   "codemirror_mode": {
    "name": "ipython",
    "version": 3
   },
   "file_extension": ".py",
   "mimetype": "text/x-python",
   "name": "python",
   "nbconvert_exporter": "python",
   "pygments_lexer": "ipython3",
   "version": "3.7.10"
  }
 },
 "nbformat": 4,
 "nbformat_minor": 5
}
