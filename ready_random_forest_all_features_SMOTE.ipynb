{
 "cells": [
  {
   "cell_type": "code",
   "execution_count": 1,
   "id": "8871b34a",
   "metadata": {},
   "outputs": [],
   "source": [
    "# Initial imports.\n",
    "import pandas as pd\n",
    "from path import Path\n",
    "from sklearn.ensemble import RandomForestClassifier\n",
    "from sklearn.preprocessing import StandardScaler, MinMaxScaler\n",
    "from sklearn.model_selection import train_test_split\n",
    "from sklearn.metrics import confusion_matrix, accuracy_score, classification_report\n",
    "from sklearn.preprocessing import LabelEncoder\n",
    "from imblearn.under_sampling import RandomUnderSampler\n",
    "from imblearn.over_sampling import RandomOverSampler\n",
    "from imblearn.combine import SMOTEENN\n",
    "from collections import Counter"
   ]
  },
  {
   "cell_type": "code",
   "execution_count": 2,
   "id": "870ab727",
   "metadata": {
    "scrolled": false
   },
   "outputs": [
    {
     "data": {
      "text/html": [
       "<div>\n",
       "<style scoped>\n",
       "    .dataframe tbody tr th:only-of-type {\n",
       "        vertical-align: middle;\n",
       "    }\n",
       "\n",
       "    .dataframe tbody tr th {\n",
       "        vertical-align: top;\n",
       "    }\n",
       "\n",
       "    .dataframe thead th {\n",
       "        text-align: right;\n",
       "    }\n",
       "</style>\n",
       "<table border=\"1\" class=\"dataframe\">\n",
       "  <thead>\n",
       "    <tr style=\"text-align: right;\">\n",
       "      <th></th>\n",
       "      <th>gender</th>\n",
       "      <th>age</th>\n",
       "      <th>hypertension</th>\n",
       "      <th>heart_disease</th>\n",
       "      <th>ever_married</th>\n",
       "      <th>work_type</th>\n",
       "      <th>Residence_type</th>\n",
       "      <th>avg_glucose_level</th>\n",
       "      <th>bmi</th>\n",
       "      <th>smoking_status</th>\n",
       "    </tr>\n",
       "  </thead>\n",
       "  <tbody>\n",
       "    <tr>\n",
       "      <th>0</th>\n",
       "      <td>-0.829948</td>\n",
       "      <td>-0.479290</td>\n",
       "      <td>-0.317082</td>\n",
       "      <td>-0.233018</td>\n",
       "      <td>0.730297</td>\n",
       "      <td>-0.171871</td>\n",
       "      <td>0.981537</td>\n",
       "      <td>-0.000772</td>\n",
       "      <td>-0.828217</td>\n",
       "      <td>0.580955</td>\n",
       "    </tr>\n",
       "    <tr>\n",
       "      <th>1</th>\n",
       "      <td>-0.829948</td>\n",
       "      <td>-1.670513</td>\n",
       "      <td>-0.317082</td>\n",
       "      <td>-0.233018</td>\n",
       "      <td>-1.369306</td>\n",
       "      <td>1.662687</td>\n",
       "      <td>-1.018810</td>\n",
       "      <td>-1.024157</td>\n",
       "      <td>-1.610809</td>\n",
       "      <td>-1.295192</td>\n",
       "    </tr>\n",
       "    <tr>\n",
       "      <th>2</th>\n",
       "      <td>1.202320</td>\n",
       "      <td>1.197246</td>\n",
       "      <td>-0.317082</td>\n",
       "      <td>-0.233018</td>\n",
       "      <td>0.730297</td>\n",
       "      <td>-0.171871</td>\n",
       "      <td>0.981537</td>\n",
       "      <td>-0.915742</td>\n",
       "      <td>0.139351</td>\n",
       "      <td>1.519028</td>\n",
       "    </tr>\n",
       "    <tr>\n",
       "      <th>3</th>\n",
       "      <td>1.202320</td>\n",
       "      <td>0.050142</td>\n",
       "      <td>-0.317082</td>\n",
       "      <td>-0.233018</td>\n",
       "      <td>0.730297</td>\n",
       "      <td>-0.171871</td>\n",
       "      <td>0.981537</td>\n",
       "      <td>-0.126803</td>\n",
       "      <td>0.665822</td>\n",
       "      <td>0.580955</td>\n",
       "    </tr>\n",
       "    <tr>\n",
       "      <th>4</th>\n",
       "      <td>-0.829948</td>\n",
       "      <td>-1.582275</td>\n",
       "      <td>-0.317082</td>\n",
       "      <td>-0.233018</td>\n",
       "      <td>-1.369306</td>\n",
       "      <td>1.662687</td>\n",
       "      <td>0.981537</td>\n",
       "      <td>-0.977403</td>\n",
       "      <td>-1.710412</td>\n",
       "      <td>-1.295192</td>\n",
       "    </tr>\n",
       "    <tr>\n",
       "      <th>...</th>\n",
       "      <td>...</td>\n",
       "      <td>...</td>\n",
       "      <td>...</td>\n",
       "      <td>...</td>\n",
       "      <td>...</td>\n",
       "      <td>...</td>\n",
       "      <td>...</td>\n",
       "      <td>...</td>\n",
       "      <td>...</td>\n",
       "      <td>...</td>\n",
       "    </tr>\n",
       "    <tr>\n",
       "      <th>6568</th>\n",
       "      <td>1.202320</td>\n",
       "      <td>0.942155</td>\n",
       "      <td>-0.317082</td>\n",
       "      <td>-0.233018</td>\n",
       "      <td>0.730297</td>\n",
       "      <td>-0.171871</td>\n",
       "      <td>0.981537</td>\n",
       "      <td>-0.326108</td>\n",
       "      <td>0.006928</td>\n",
       "      <td>-0.683453</td>\n",
       "    </tr>\n",
       "    <tr>\n",
       "      <th>6569</th>\n",
       "      <td>-0.829948</td>\n",
       "      <td>1.489543</td>\n",
       "      <td>3.153756</td>\n",
       "      <td>-0.233018</td>\n",
       "      <td>0.730297</td>\n",
       "      <td>0.114769</td>\n",
       "      <td>-1.018810</td>\n",
       "      <td>-0.684412</td>\n",
       "      <td>-0.013604</td>\n",
       "      <td>0.874093</td>\n",
       "    </tr>\n",
       "    <tr>\n",
       "      <th>6570</th>\n",
       "      <td>1.202320</td>\n",
       "      <td>1.561426</td>\n",
       "      <td>-0.317082</td>\n",
       "      <td>-0.233018</td>\n",
       "      <td>0.730297</td>\n",
       "      <td>-0.171871</td>\n",
       "      <td>-1.018810</td>\n",
       "      <td>-0.467821</td>\n",
       "      <td>-0.122891</td>\n",
       "      <td>-0.357119</td>\n",
       "    </tr>\n",
       "    <tr>\n",
       "      <th>6571</th>\n",
       "      <td>1.202320</td>\n",
       "      <td>-0.013532</td>\n",
       "      <td>-0.317082</td>\n",
       "      <td>-0.233018</td>\n",
       "      <td>0.730297</td>\n",
       "      <td>-0.171871</td>\n",
       "      <td>-1.018810</td>\n",
       "      <td>-0.485303</td>\n",
       "      <td>-0.370126</td>\n",
       "      <td>-1.295192</td>\n",
       "    </tr>\n",
       "    <tr>\n",
       "      <th>6572</th>\n",
       "      <td>-0.829948</td>\n",
       "      <td>0.814042</td>\n",
       "      <td>3.153756</td>\n",
       "      <td>-0.233018</td>\n",
       "      <td>0.730297</td>\n",
       "      <td>-1.469178</td>\n",
       "      <td>-1.018810</td>\n",
       "      <td>-0.024960</td>\n",
       "      <td>0.347907</td>\n",
       "      <td>-0.357119</td>\n",
       "    </tr>\n",
       "  </tbody>\n",
       "</table>\n",
       "<p>6573 rows × 10 columns</p>\n",
       "</div>"
      ],
      "text/plain": [
       "        gender       age  hypertension  heart_disease  ever_married  \\\n",
       "0    -0.829948 -0.479290     -0.317082      -0.233018      0.730297   \n",
       "1    -0.829948 -1.670513     -0.317082      -0.233018     -1.369306   \n",
       "2     1.202320  1.197246     -0.317082      -0.233018      0.730297   \n",
       "3     1.202320  0.050142     -0.317082      -0.233018      0.730297   \n",
       "4    -0.829948 -1.582275     -0.317082      -0.233018     -1.369306   \n",
       "...        ...       ...           ...            ...           ...   \n",
       "6568  1.202320  0.942155     -0.317082      -0.233018      0.730297   \n",
       "6569 -0.829948  1.489543      3.153756      -0.233018      0.730297   \n",
       "6570  1.202320  1.561426     -0.317082      -0.233018      0.730297   \n",
       "6571  1.202320 -0.013532     -0.317082      -0.233018      0.730297   \n",
       "6572 -0.829948  0.814042      3.153756      -0.233018      0.730297   \n",
       "\n",
       "      work_type  Residence_type  avg_glucose_level       bmi  smoking_status  \n",
       "0     -0.171871        0.981537          -0.000772 -0.828217        0.580955  \n",
       "1      1.662687       -1.018810          -1.024157 -1.610809       -1.295192  \n",
       "2     -0.171871        0.981537          -0.915742  0.139351        1.519028  \n",
       "3     -0.171871        0.981537          -0.126803  0.665822        0.580955  \n",
       "4      1.662687        0.981537          -0.977403 -1.710412       -1.295192  \n",
       "...         ...             ...                ...       ...             ...  \n",
       "6568  -0.171871        0.981537          -0.326108  0.006928       -0.683453  \n",
       "6569   0.114769       -1.018810          -0.684412 -0.013604        0.874093  \n",
       "6570  -0.171871       -1.018810          -0.467821 -0.122891       -0.357119  \n",
       "6571  -0.171871       -1.018810          -0.485303 -0.370126       -1.295192  \n",
       "6572  -1.469178       -1.018810          -0.024960  0.347907       -0.357119  \n",
       "\n",
       "[6573 rows x 10 columns]"
      ]
     },
     "execution_count": 2,
     "metadata": {},
     "output_type": "execute_result"
    }
   ],
   "source": [
    "# Data Import\n",
    "x_train_file = Path(\"Resources/X_train_SMOTEENN_balanced_scaled_train_dataset.csv\")\n",
    "x_test_file = Path(\"Resources/X_test_SMOTEENN_balanced_scaled_train_dataset.csv\")\n",
    "y_train_file = Path(\"Resources/y_train_SMOTEENN_balanced_scaled_train_dataset.csv\")\n",
    "y_test_file = Path(\"Resources/y_test_SMOTEENN_balanced_scaled_train_dataset.csv\")\n",
    "\n",
    "X_train = pd.read_csv(x_train_file)\n",
    "X_test = pd.read_csv(x_test_file)\n",
    "y_train = pd.read_csv(y_train_file)\n",
    "y_test = pd.read_csv(y_test_file)\n",
    "\n",
    "y_train = y_train['stroke']\n",
    "y_test = y_test['stroke']\n",
    "\n",
    "X_train"
   ]
  },
  {
   "cell_type": "markdown",
   "id": "bb38f586",
   "metadata": {},
   "source": [
    "#### Model Raw Data (All Features)"
   ]
  },
  {
   "cell_type": "code",
   "execution_count": 3,
   "id": "ce5c0949",
   "metadata": {},
   "outputs": [],
   "source": [
    "# Create model instance\n",
    "rf_model = RandomForestClassifier(n_estimators=512) "
   ]
  },
  {
   "cell_type": "code",
   "execution_count": 4,
   "id": "04d68f2b",
   "metadata": {},
   "outputs": [],
   "source": [
    "# Fit the model\n",
    "rf_model = rf_model.fit(X_train, y_train)"
   ]
  },
  {
   "cell_type": "code",
   "execution_count": 5,
   "id": "1970f885",
   "metadata": {},
   "outputs": [],
   "source": [
    "# Making predictions\n",
    "predictions = rf_model.predict(X_test)"
   ]
  },
  {
   "cell_type": "code",
   "execution_count": 6,
   "id": "b6dba663",
   "metadata": {},
   "outputs": [],
   "source": [
    "# confusion matrix.\n",
    "cm = confusion_matrix(y_test, predictions)\n",
    "\n",
    "cm_df = pd.DataFrame(\n",
    "    cm, index=[\"Actual 0\", \"Actual 1\"], columns=[\"Predicted 0\", \"Predicted 1\"])"
   ]
  },
  {
   "cell_type": "code",
   "execution_count": 7,
   "id": "317bb14b",
   "metadata": {},
   "outputs": [],
   "source": [
    "# accuracy score.\n",
    "acc_score = accuracy_score(y_test, predictions)"
   ]
  },
  {
   "cell_type": "code",
   "execution_count": 8,
   "id": "2d0c5a5a",
   "metadata": {
    "scrolled": true
   },
   "outputs": [
    {
     "name": "stdout",
     "output_type": "stream",
     "text": [
      "Confusion Matrix\n"
     ]
    },
    {
     "data": {
      "text/html": [
       "<div>\n",
       "<style scoped>\n",
       "    .dataframe tbody tr th:only-of-type {\n",
       "        vertical-align: middle;\n",
       "    }\n",
       "\n",
       "    .dataframe tbody tr th {\n",
       "        vertical-align: top;\n",
       "    }\n",
       "\n",
       "    .dataframe thead th {\n",
       "        text-align: right;\n",
       "    }\n",
       "</style>\n",
       "<table border=\"1\" class=\"dataframe\">\n",
       "  <thead>\n",
       "    <tr style=\"text-align: right;\">\n",
       "      <th></th>\n",
       "      <th>Predicted 0</th>\n",
       "      <th>Predicted 1</th>\n",
       "    </tr>\n",
       "  </thead>\n",
       "  <tbody>\n",
       "    <tr>\n",
       "      <th>Actual 0</th>\n",
       "      <td>850</td>\n",
       "      <td>74</td>\n",
       "    </tr>\n",
       "    <tr>\n",
       "      <th>Actual 1</th>\n",
       "      <td>25</td>\n",
       "      <td>17</td>\n",
       "    </tr>\n",
       "  </tbody>\n",
       "</table>\n",
       "</div>"
      ],
      "text/plain": [
       "          Predicted 0  Predicted 1\n",
       "Actual 0          850           74\n",
       "Actual 1           25           17"
      ]
     },
     "metadata": {},
     "output_type": "display_data"
    },
    {
     "name": "stdout",
     "output_type": "stream",
     "text": [
      "Accuracy Score : 0.8975155279503105\n",
      "Classification Report\n",
      "              precision    recall  f1-score   support\n",
      "\n",
      "           0       0.97      0.92      0.94       924\n",
      "           1       0.19      0.40      0.26        42\n",
      "\n",
      "    accuracy                           0.90       966\n",
      "   macro avg       0.58      0.66      0.60       966\n",
      "weighted avg       0.94      0.90      0.91       966\n",
      "\n"
     ]
    }
   ],
   "source": [
    "# results\n",
    "print(\"Confusion Matrix\")\n",
    "display(cm_df)\n",
    "print(f\"Accuracy Score : {acc_score}\")\n",
    "print(\"Classification Report\")\n",
    "print(classification_report(y_test, predictions))"
   ]
  },
  {
   "cell_type": "code",
   "execution_count": 9,
   "id": "156f06da",
   "metadata": {},
   "outputs": [
    {
     "data": {
      "text/plain": [
       "array([0.02771587, 0.40639505, 0.02609713, 0.01270278, 0.07845719,\n",
       "       0.09188434, 0.02531149, 0.11078383, 0.08222307, 0.13842925])"
      ]
     },
     "execution_count": 9,
     "metadata": {},
     "output_type": "execute_result"
    }
   ],
   "source": [
    "importances = rf_model.feature_importances_\n",
    "importances"
   ]
  },
  {
   "cell_type": "code",
   "execution_count": 10,
   "id": "d9b6680f",
   "metadata": {},
   "outputs": [
    {
     "data": {
      "text/plain": [
       "[(0.40639505309505636, 'age'),\n",
       " (0.13842925204798245, 'smoking_status'),\n",
       " (0.11078383234354384, 'avg_glucose_level'),\n",
       " (0.0918843423359233, 'work_type'),\n",
       " (0.08222307341996211, 'bmi'),\n",
       " (0.07845718577582757, 'ever_married'),\n",
       " (0.027715867952303408, 'gender'),\n",
       " (0.0260971297823888, 'hypertension'),\n",
       " (0.025311486376403933, 'Residence_type'),\n",
       " (0.012702776870608236, 'heart_disease')]"
      ]
     },
     "execution_count": 10,
     "metadata": {},
     "output_type": "execute_result"
    }
   ],
   "source": [
    "sorted(zip(rf_model.feature_importances_, X_train.columns), reverse=True)"
   ]
  },
  {
   "cell_type": "code",
   "execution_count": null,
   "id": "0abab2af",
   "metadata": {},
   "outputs": [],
   "source": []
  }
 ],
 "metadata": {
  "kernelspec": {
   "display_name": "mlenv",
   "language": "python",
   "name": "mlenv"
  },
  "language_info": {
   "codemirror_mode": {
    "name": "ipython",
    "version": 3
   },
   "file_extension": ".py",
   "mimetype": "text/x-python",
   "name": "python",
   "nbconvert_exporter": "python",
   "pygments_lexer": "ipython3",
   "version": "3.7.10"
  }
 },
 "nbformat": 4,
 "nbformat_minor": 5
}
