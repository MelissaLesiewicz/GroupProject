{
 "cells": [
  {
   "cell_type": "code",
   "execution_count": 1,
   "id": "8871b34a",
   "metadata": {},
   "outputs": [],
   "source": [
    "# Initial imports.\n",
    "import pandas as pd\n",
    "from path import Path\n",
    "from sklearn.ensemble import RandomForestClassifier\n",
    "from sklearn.preprocessing import StandardScaler, MinMaxScaler\n",
    "from sklearn.model_selection import train_test_split\n",
    "from sklearn.metrics import confusion_matrix, accuracy_score, classification_report\n",
    "from sklearn.preprocessing import LabelEncoder\n",
    "from imblearn.under_sampling import RandomUnderSampler\n",
    "from imblearn.over_sampling import RandomOverSampler\n",
    "from imblearn.combine import SMOTEENN\n",
    "from collections import Counter"
   ]
  },
  {
   "cell_type": "code",
   "execution_count": 11,
   "id": "870ab727",
   "metadata": {
    "scrolled": false
   },
   "outputs": [
    {
     "data": {
      "text/html": [
       "<div>\n",
       "<style scoped>\n",
       "    .dataframe tbody tr th:only-of-type {\n",
       "        vertical-align: middle;\n",
       "    }\n",
       "\n",
       "    .dataframe tbody tr th {\n",
       "        vertical-align: top;\n",
       "    }\n",
       "\n",
       "    .dataframe thead th {\n",
       "        text-align: right;\n",
       "    }\n",
       "</style>\n",
       "<table border=\"1\" class=\"dataframe\">\n",
       "  <thead>\n",
       "    <tr style=\"text-align: right;\">\n",
       "      <th></th>\n",
       "      <th>gender</th>\n",
       "      <th>age</th>\n",
       "      <th>hypertension</th>\n",
       "      <th>heart_disease</th>\n",
       "      <th>ever_married</th>\n",
       "      <th>work_type</th>\n",
       "      <th>Residence_type</th>\n",
       "      <th>avg_glucose_level</th>\n",
       "      <th>bmi</th>\n",
       "      <th>smoking_status</th>\n",
       "    </tr>\n",
       "  </thead>\n",
       "  <tbody>\n",
       "    <tr>\n",
       "      <th>0</th>\n",
       "      <td>1.484478</td>\n",
       "      <td>-2.196615</td>\n",
       "      <td>-0.301993</td>\n",
       "      <td>-0.208833</td>\n",
       "      <td>-1.520465</td>\n",
       "      <td>2.044734</td>\n",
       "      <td>-0.787626</td>\n",
       "      <td>-0.437241</td>\n",
       "      <td>-1.722847</td>\n",
       "      <td>-1.398197</td>\n",
       "    </tr>\n",
       "    <tr>\n",
       "      <th>1</th>\n",
       "      <td>-0.672839</td>\n",
       "      <td>-1.981487</td>\n",
       "      <td>-0.301993</td>\n",
       "      <td>-0.208833</td>\n",
       "      <td>-1.520465</td>\n",
       "      <td>0.036963</td>\n",
       "      <td>1.269638</td>\n",
       "      <td>-0.154305</td>\n",
       "      <td>-1.785652</td>\n",
       "      <td>-1.398197</td>\n",
       "    </tr>\n",
       "    <tr>\n",
       "      <th>2</th>\n",
       "      <td>1.484478</td>\n",
       "      <td>-1.723333</td>\n",
       "      <td>-0.301993</td>\n",
       "      <td>-0.208833</td>\n",
       "      <td>-1.520465</td>\n",
       "      <td>-0.966922</td>\n",
       "      <td>-0.787626</td>\n",
       "      <td>0.749761</td>\n",
       "      <td>-1.550134</td>\n",
       "      <td>-1.398197</td>\n",
       "    </tr>\n",
       "    <tr>\n",
       "      <th>3</th>\n",
       "      <td>-0.672839</td>\n",
       "      <td>1.073336</td>\n",
       "      <td>-0.301993</td>\n",
       "      <td>-0.208833</td>\n",
       "      <td>0.657693</td>\n",
       "      <td>-1.970808</td>\n",
       "      <td>1.269638</td>\n",
       "      <td>-0.760903</td>\n",
       "      <td>0.946358</td>\n",
       "      <td>-1.398197</td>\n",
       "    </tr>\n",
       "    <tr>\n",
       "      <th>4</th>\n",
       "      <td>-0.672839</td>\n",
       "      <td>-0.733742</td>\n",
       "      <td>-0.301993</td>\n",
       "      <td>-0.208833</td>\n",
       "      <td>0.657693</td>\n",
       "      <td>0.036963</td>\n",
       "      <td>-0.787626</td>\n",
       "      <td>0.779903</td>\n",
       "      <td>1.637211</td>\n",
       "      <td>0.741489</td>\n",
       "    </tr>\n",
       "    <tr>\n",
       "      <th>...</th>\n",
       "      <td>...</td>\n",
       "      <td>...</td>\n",
       "      <td>...</td>\n",
       "      <td>...</td>\n",
       "      <td>...</td>\n",
       "      <td>...</td>\n",
       "      <td>...</td>\n",
       "      <td>...</td>\n",
       "      <td>...</td>\n",
       "      <td>...</td>\n",
       "    </tr>\n",
       "    <tr>\n",
       "      <th>7844</th>\n",
       "      <td>-0.672839</td>\n",
       "      <td>-0.080750</td>\n",
       "      <td>-0.301993</td>\n",
       "      <td>-0.208833</td>\n",
       "      <td>0.657693</td>\n",
       "      <td>-1.970808</td>\n",
       "      <td>-0.787626</td>\n",
       "      <td>-0.280547</td>\n",
       "      <td>-0.262635</td>\n",
       "      <td>-0.328354</td>\n",
       "    </tr>\n",
       "    <tr>\n",
       "      <th>7845</th>\n",
       "      <td>-0.672839</td>\n",
       "      <td>-0.335967</td>\n",
       "      <td>-0.301993</td>\n",
       "      <td>-0.208833</td>\n",
       "      <td>0.657693</td>\n",
       "      <td>0.036963</td>\n",
       "      <td>-0.787626</td>\n",
       "      <td>-0.997505</td>\n",
       "      <td>0.089083</td>\n",
       "      <td>-0.328354</td>\n",
       "    </tr>\n",
       "    <tr>\n",
       "      <th>7846</th>\n",
       "      <td>-0.672839</td>\n",
       "      <td>1.106870</td>\n",
       "      <td>-0.301993</td>\n",
       "      <td>-0.208833</td>\n",
       "      <td>0.657693</td>\n",
       "      <td>0.036963</td>\n",
       "      <td>-0.787626</td>\n",
       "      <td>-0.236449</td>\n",
       "      <td>0.524386</td>\n",
       "      <td>0.741489</td>\n",
       "    </tr>\n",
       "    <tr>\n",
       "      <th>7847</th>\n",
       "      <td>-0.672839</td>\n",
       "      <td>1.202413</td>\n",
       "      <td>-0.301993</td>\n",
       "      <td>4.788515</td>\n",
       "      <td>0.657693</td>\n",
       "      <td>-1.970808</td>\n",
       "      <td>-0.787626</td>\n",
       "      <td>1.710479</td>\n",
       "      <td>-0.063265</td>\n",
       "      <td>-1.398197</td>\n",
       "    </tr>\n",
       "    <tr>\n",
       "      <th>7848</th>\n",
       "      <td>1.484478</td>\n",
       "      <td>1.020915</td>\n",
       "      <td>-0.301993</td>\n",
       "      <td>-0.208833</td>\n",
       "      <td>0.657693</td>\n",
       "      <td>0.036963</td>\n",
       "      <td>-0.787626</td>\n",
       "      <td>2.554462</td>\n",
       "      <td>0.410803</td>\n",
       "      <td>1.811332</td>\n",
       "    </tr>\n",
       "  </tbody>\n",
       "</table>\n",
       "<p>7849 rows × 10 columns</p>\n",
       "</div>"
      ],
      "text/plain": [
       "        gender       age  hypertension  heart_disease  ever_married  \\\n",
       "0     1.484478 -2.196615     -0.301993      -0.208833     -1.520465   \n",
       "1    -0.672839 -1.981487     -0.301993      -0.208833     -1.520465   \n",
       "2     1.484478 -1.723333     -0.301993      -0.208833     -1.520465   \n",
       "3    -0.672839  1.073336     -0.301993      -0.208833      0.657693   \n",
       "4    -0.672839 -0.733742     -0.301993      -0.208833      0.657693   \n",
       "...        ...       ...           ...            ...           ...   \n",
       "7844 -0.672839 -0.080750     -0.301993      -0.208833      0.657693   \n",
       "7845 -0.672839 -0.335967     -0.301993      -0.208833      0.657693   \n",
       "7846 -0.672839  1.106870     -0.301993      -0.208833      0.657693   \n",
       "7847 -0.672839  1.202413     -0.301993       4.788515      0.657693   \n",
       "7848  1.484478  1.020915     -0.301993      -0.208833      0.657693   \n",
       "\n",
       "      work_type  Residence_type  avg_glucose_level       bmi  smoking_status  \n",
       "0      2.044734       -0.787626          -0.437241 -1.722847       -1.398197  \n",
       "1      0.036963        1.269638          -0.154305 -1.785652       -1.398197  \n",
       "2     -0.966922       -0.787626           0.749761 -1.550134       -1.398197  \n",
       "3     -1.970808        1.269638          -0.760903  0.946358       -1.398197  \n",
       "4      0.036963       -0.787626           0.779903  1.637211        0.741489  \n",
       "...         ...             ...                ...       ...             ...  \n",
       "7844  -1.970808       -0.787626          -0.280547 -0.262635       -0.328354  \n",
       "7845   0.036963       -0.787626          -0.997505  0.089083       -0.328354  \n",
       "7846   0.036963       -0.787626          -0.236449  0.524386        0.741489  \n",
       "7847  -1.970808       -0.787626           1.710479 -0.063265       -1.398197  \n",
       "7848   0.036963       -0.787626           2.554462  0.410803        1.811332  \n",
       "\n",
       "[7849 rows x 10 columns]"
      ]
     },
     "execution_count": 11,
     "metadata": {},
     "output_type": "execute_result"
    }
   ],
   "source": [
    "# Data Import\n",
    "x_train_file = Path(\"Resources/X_train_SMOTEENN_balanced_scaled_train_dataset.csv\")\n",
    "x_test_file = Path(\"Resources/X_test_SMOTEENN_balanced_scaled_train_dataset.csv\")\n",
    "y_train_file = Path(\"Resources/y_train_SMOTEENN_balanced_scaled_train_dataset.csv\")\n",
    "y_test_file = Path(\"Resources/y_test_SMOTEENN_balanced_scaled_train_dataset.csv\")\n",
    "\n",
    "X_train = pd.read_csv(x_train_file)\n",
    "X_test = pd.read_csv(x_test_file)\n",
    "y_train = pd.read_csv(y_train_file)\n",
    "y_test = pd.read_csv(y_test_file)\n",
    "\n",
    "y_train = y_train['stroke']\n",
    "y_test = y_test['stroke']\n",
    "\n",
    "X_train"
   ]
  },
  {
   "cell_type": "markdown",
   "id": "bb38f586",
   "metadata": {},
   "source": [
    "#### Model Raw Data (All Features)"
   ]
  },
  {
   "cell_type": "code",
   "execution_count": 12,
   "id": "ce5c0949",
   "metadata": {},
   "outputs": [],
   "source": [
    "# Create model instance\n",
    "rf_model = RandomForestClassifier(n_estimators=512) "
   ]
  },
  {
   "cell_type": "code",
   "execution_count": 13,
   "id": "04d68f2b",
   "metadata": {},
   "outputs": [],
   "source": [
    "# Fit the model\n",
    "rf_model = rf_model.fit(X_train, y_train)"
   ]
  },
  {
   "cell_type": "code",
   "execution_count": 14,
   "id": "1970f885",
   "metadata": {},
   "outputs": [],
   "source": [
    "# Making predictions\n",
    "predictions = rf_model.predict(X_test)"
   ]
  },
  {
   "cell_type": "code",
   "execution_count": 15,
   "id": "b6dba663",
   "metadata": {},
   "outputs": [],
   "source": [
    "# confusion matrix.\n",
    "cm = confusion_matrix(y_test, predictions)\n",
    "\n",
    "cm_df = pd.DataFrame(\n",
    "    cm, index=[\"Actual 0\", \"Actual 1\"], columns=[\"Predicted 0\", \"Predicted 1\"])"
   ]
  },
  {
   "cell_type": "code",
   "execution_count": 16,
   "id": "317bb14b",
   "metadata": {},
   "outputs": [],
   "source": [
    "# accuracy score.\n",
    "acc_score = accuracy_score(y_test, predictions)"
   ]
  },
  {
   "cell_type": "code",
   "execution_count": 17,
   "id": "2d0c5a5a",
   "metadata": {
    "scrolled": true
   },
   "outputs": [
    {
     "name": "stdout",
     "output_type": "stream",
     "text": [
      "Confusion Matrix\n"
     ]
    },
    {
     "data": {
      "text/html": [
       "<div>\n",
       "<style scoped>\n",
       "    .dataframe tbody tr th:only-of-type {\n",
       "        vertical-align: middle;\n",
       "    }\n",
       "\n",
       "    .dataframe tbody tr th {\n",
       "        vertical-align: top;\n",
       "    }\n",
       "\n",
       "    .dataframe thead th {\n",
       "        text-align: right;\n",
       "    }\n",
       "</style>\n",
       "<table border=\"1\" class=\"dataframe\">\n",
       "  <thead>\n",
       "    <tr style=\"text-align: right;\">\n",
       "      <th></th>\n",
       "      <th>Predicted 0</th>\n",
       "      <th>Predicted 1</th>\n",
       "    </tr>\n",
       "  </thead>\n",
       "  <tbody>\n",
       "    <tr>\n",
       "      <th>Actual 0</th>\n",
       "      <td>851</td>\n",
       "      <td>73</td>\n",
       "    </tr>\n",
       "    <tr>\n",
       "      <th>Actual 1</th>\n",
       "      <td>1</td>\n",
       "      <td>41</td>\n",
       "    </tr>\n",
       "  </tbody>\n",
       "</table>\n",
       "</div>"
      ],
      "text/plain": [
       "          Predicted 0  Predicted 1\n",
       "Actual 0          851           73\n",
       "Actual 1            1           41"
      ]
     },
     "metadata": {},
     "output_type": "display_data"
    },
    {
     "name": "stdout",
     "output_type": "stream",
     "text": [
      "Accuracy Score : 0.9233954451345756\n",
      "Classification Report\n",
      "              precision    recall  f1-score   support\n",
      "\n",
      "           0       1.00      0.92      0.96       924\n",
      "           1       0.36      0.98      0.53        42\n",
      "\n",
      "    accuracy                           0.92       966\n",
      "   macro avg       0.68      0.95      0.74       966\n",
      "weighted avg       0.97      0.92      0.94       966\n",
      "\n"
     ]
    }
   ],
   "source": [
    "# results\n",
    "print(\"Confusion Matrix\")\n",
    "display(cm_df)\n",
    "print(f\"Accuracy Score : {acc_score}\")\n",
    "print(\"Classification Report\")\n",
    "print(classification_report(y_test, predictions))"
   ]
  },
  {
   "cell_type": "code",
   "execution_count": 18,
   "id": "156f06da",
   "metadata": {},
   "outputs": [
    {
     "data": {
      "text/plain": [
       "array([0.01737856, 0.52466762, 0.00792369, 0.00477202, 0.01944346,\n",
       "       0.06638197, 0.02467315, 0.17313986, 0.12333567, 0.03828398])"
      ]
     },
     "execution_count": 18,
     "metadata": {},
     "output_type": "execute_result"
    }
   ],
   "source": [
    "importances = rf_model.feature_importances_\n",
    "importances"
   ]
  },
  {
   "cell_type": "code",
   "execution_count": 19,
   "id": "d9b6680f",
   "metadata": {},
   "outputs": [
    {
     "data": {
      "text/plain": [
       "[(0.5246676216853897, 'age'),\n",
       " (0.173139864637067, 'avg_glucose_level'),\n",
       " (0.1233356690656475, 'bmi'),\n",
       " (0.0663819741165727, 'work_type'),\n",
       " (0.03828398174310104, 'smoking_status'),\n",
       " (0.024673154313702216, 'Residence_type'),\n",
       " (0.01944346087710613, 'ever_married'),\n",
       " (0.017378560926044995, 'gender'),\n",
       " (0.00792369250602575, 'hypertension'),\n",
       " (0.004772020129342923, 'heart_disease')]"
      ]
     },
     "execution_count": 19,
     "metadata": {},
     "output_type": "execute_result"
    }
   ],
   "source": [
    "sorted(zip(rf_model.feature_importances_, X_train.columns), reverse=True)"
   ]
  },
  {
   "cell_type": "code",
   "execution_count": null,
   "id": "0abab2af",
   "metadata": {},
   "outputs": [],
   "source": []
  }
 ],
 "metadata": {
  "kernelspec": {
   "display_name": "mlenv",
   "language": "python",
   "name": "mlenv"
  },
  "language_info": {
   "codemirror_mode": {
    "name": "ipython",
    "version": 3
   },
   "file_extension": ".py",
   "mimetype": "text/x-python",
   "name": "python",
   "nbconvert_exporter": "python",
   "pygments_lexer": "ipython3",
   "version": "3.7.10"
  }
 },
 "nbformat": 4,
 "nbformat_minor": 5
}
