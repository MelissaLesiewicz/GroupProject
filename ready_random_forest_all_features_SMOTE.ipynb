{
 "cells": [
  {
   "cell_type": "code",
   "execution_count": 1,
   "id": "8871b34a",
   "metadata": {},
   "outputs": [],
   "source": [
    "# Initial imports.\n",
    "import pandas as pd\n",
    "from path import Path\n",
    "from sklearn.ensemble import RandomForestClassifier\n",
    "from sklearn.preprocessing import StandardScaler, MinMaxScaler\n",
    "from sklearn.model_selection import train_test_split\n",
    "from sklearn.metrics import confusion_matrix, accuracy_score, classification_report\n",
    "from sklearn.preprocessing import LabelEncoder\n",
    "from imblearn.under_sampling import RandomUnderSampler\n",
    "from imblearn.over_sampling import RandomOverSampler\n",
    "from imblearn.combine import SMOTEENN\n",
    "from collections import Counter"
   ]
  },
  {
   "cell_type": "code",
   "execution_count": 18,
   "id": "870ab727",
   "metadata": {
    "scrolled": false
   },
   "outputs": [
    {
     "data": {
      "text/html": [
       "<div>\n",
       "<style scoped>\n",
       "    .dataframe tbody tr th:only-of-type {\n",
       "        vertical-align: middle;\n",
       "    }\n",
       "\n",
       "    .dataframe tbody tr th {\n",
       "        vertical-align: top;\n",
       "    }\n",
       "\n",
       "    .dataframe thead th {\n",
       "        text-align: right;\n",
       "    }\n",
       "</style>\n",
       "<table border=\"1\" class=\"dataframe\">\n",
       "  <thead>\n",
       "    <tr style=\"text-align: right;\">\n",
       "      <th></th>\n",
       "      <th>gender</th>\n",
       "      <th>age</th>\n",
       "      <th>hypertension</th>\n",
       "      <th>heart_disease</th>\n",
       "      <th>ever_married</th>\n",
       "      <th>work_type</th>\n",
       "      <th>Residence_type</th>\n",
       "      <th>avg_glucose_level</th>\n",
       "      <th>bmi</th>\n",
       "      <th>smoking_status</th>\n",
       "    </tr>\n",
       "  </thead>\n",
       "  <tbody>\n",
       "    <tr>\n",
       "      <th>0</th>\n",
       "      <td>-0.723988</td>\n",
       "      <td>0.328522</td>\n",
       "      <td>-0.300722</td>\n",
       "      <td>-0.215283</td>\n",
       "      <td>0.692615</td>\n",
       "      <td>-0.033583</td>\n",
       "      <td>-0.872666</td>\n",
       "      <td>-0.265636</td>\n",
       "      <td>1.626449</td>\n",
       "      <td>1.702739</td>\n",
       "    </tr>\n",
       "    <tr>\n",
       "      <th>1</th>\n",
       "      <td>1.379145</td>\n",
       "      <td>-2.099458</td>\n",
       "      <td>-0.300722</td>\n",
       "      <td>-0.215283</td>\n",
       "      <td>-1.443803</td>\n",
       "      <td>1.897353</td>\n",
       "      <td>-0.872666</td>\n",
       "      <td>-0.045597</td>\n",
       "      <td>-1.154692</td>\n",
       "      <td>-1.344075</td>\n",
       "    </tr>\n",
       "    <tr>\n",
       "      <th>2</th>\n",
       "      <td>1.379145</td>\n",
       "      <td>0.497602</td>\n",
       "      <td>-0.300722</td>\n",
       "      <td>-0.215283</td>\n",
       "      <td>0.692615</td>\n",
       "      <td>-0.033583</td>\n",
       "      <td>1.145914</td>\n",
       "      <td>1.800204</td>\n",
       "      <td>1.218347</td>\n",
       "      <td>1.702739</td>\n",
       "    </tr>\n",
       "    <tr>\n",
       "      <th>3</th>\n",
       "      <td>-0.723988</td>\n",
       "      <td>-0.516875</td>\n",
       "      <td>-0.300722</td>\n",
       "      <td>-0.215283</td>\n",
       "      <td>0.692615</td>\n",
       "      <td>-0.033583</td>\n",
       "      <td>-0.872666</td>\n",
       "      <td>-0.195650</td>\n",
       "      <td>2.805411</td>\n",
       "      <td>1.702739</td>\n",
       "    </tr>\n",
       "    <tr>\n",
       "      <th>4</th>\n",
       "      <td>-0.723988</td>\n",
       "      <td>-1.193192</td>\n",
       "      <td>-0.300722</td>\n",
       "      <td>-0.215283</td>\n",
       "      <td>-1.443803</td>\n",
       "      <td>-0.033583</td>\n",
       "      <td>1.145914</td>\n",
       "      <td>-0.954830</td>\n",
       "      <td>-1.230266</td>\n",
       "      <td>-1.344075</td>\n",
       "    </tr>\n",
       "    <tr>\n",
       "      <th>...</th>\n",
       "      <td>...</td>\n",
       "      <td>...</td>\n",
       "      <td>...</td>\n",
       "      <td>...</td>\n",
       "      <td>...</td>\n",
       "      <td>...</td>\n",
       "      <td>...</td>\n",
       "      <td>...</td>\n",
       "      <td>...</td>\n",
       "      <td>...</td>\n",
       "    </tr>\n",
       "    <tr>\n",
       "      <th>11667</th>\n",
       "      <td>-0.723988</td>\n",
       "      <td>0.762262</td>\n",
       "      <td>-0.300722</td>\n",
       "      <td>-0.215283</td>\n",
       "      <td>0.692615</td>\n",
       "      <td>-0.033583</td>\n",
       "      <td>-0.872666</td>\n",
       "      <td>2.231287</td>\n",
       "      <td>1.133651</td>\n",
       "      <td>-0.328471</td>\n",
       "    </tr>\n",
       "    <tr>\n",
       "      <th>11668</th>\n",
       "      <td>-0.723988</td>\n",
       "      <td>0.363244</td>\n",
       "      <td>-0.300722</td>\n",
       "      <td>-0.215283</td>\n",
       "      <td>0.692615</td>\n",
       "      <td>-0.999051</td>\n",
       "      <td>1.145914</td>\n",
       "      <td>-0.060650</td>\n",
       "      <td>0.445599</td>\n",
       "      <td>-1.344075</td>\n",
       "    </tr>\n",
       "    <tr>\n",
       "      <th>11669</th>\n",
       "      <td>1.379145</td>\n",
       "      <td>0.663229</td>\n",
       "      <td>-0.300722</td>\n",
       "      <td>-0.215283</td>\n",
       "      <td>0.692615</td>\n",
       "      <td>-0.999051</td>\n",
       "      <td>-0.872666</td>\n",
       "      <td>-0.732008</td>\n",
       "      <td>-1.092665</td>\n",
       "      <td>-1.344075</td>\n",
       "    </tr>\n",
       "    <tr>\n",
       "      <th>11670</th>\n",
       "      <td>-0.723988</td>\n",
       "      <td>0.994758</td>\n",
       "      <td>-0.300722</td>\n",
       "      <td>-0.215283</td>\n",
       "      <td>0.692615</td>\n",
       "      <td>-0.033583</td>\n",
       "      <td>-0.872666</td>\n",
       "      <td>2.275768</td>\n",
       "      <td>0.896119</td>\n",
       "      <td>-0.328471</td>\n",
       "    </tr>\n",
       "    <tr>\n",
       "      <th>11671</th>\n",
       "      <td>-0.723988</td>\n",
       "      <td>0.751221</td>\n",
       "      <td>-0.300722</td>\n",
       "      <td>-0.215283</td>\n",
       "      <td>-1.443803</td>\n",
       "      <td>-0.033583</td>\n",
       "      <td>1.145914</td>\n",
       "      <td>-0.661637</td>\n",
       "      <td>0.110574</td>\n",
       "      <td>-0.328471</td>\n",
       "    </tr>\n",
       "  </tbody>\n",
       "</table>\n",
       "<p>11672 rows × 10 columns</p>\n",
       "</div>"
      ],
      "text/plain": [
       "         gender       age  hypertension  heart_disease  ever_married  \\\n",
       "0     -0.723988  0.328522     -0.300722      -0.215283      0.692615   \n",
       "1      1.379145 -2.099458     -0.300722      -0.215283     -1.443803   \n",
       "2      1.379145  0.497602     -0.300722      -0.215283      0.692615   \n",
       "3     -0.723988 -0.516875     -0.300722      -0.215283      0.692615   \n",
       "4     -0.723988 -1.193192     -0.300722      -0.215283     -1.443803   \n",
       "...         ...       ...           ...            ...           ...   \n",
       "11667 -0.723988  0.762262     -0.300722      -0.215283      0.692615   \n",
       "11668 -0.723988  0.363244     -0.300722      -0.215283      0.692615   \n",
       "11669  1.379145  0.663229     -0.300722      -0.215283      0.692615   \n",
       "11670 -0.723988  0.994758     -0.300722      -0.215283      0.692615   \n",
       "11671 -0.723988  0.751221     -0.300722      -0.215283     -1.443803   \n",
       "\n",
       "       work_type  Residence_type  avg_glucose_level       bmi  smoking_status  \n",
       "0      -0.033583       -0.872666          -0.265636  1.626449        1.702739  \n",
       "1       1.897353       -0.872666          -0.045597 -1.154692       -1.344075  \n",
       "2      -0.033583        1.145914           1.800204  1.218347        1.702739  \n",
       "3      -0.033583       -0.872666          -0.195650  2.805411        1.702739  \n",
       "4      -0.033583        1.145914          -0.954830 -1.230266       -1.344075  \n",
       "...          ...             ...                ...       ...             ...  \n",
       "11667  -0.033583       -0.872666           2.231287  1.133651       -0.328471  \n",
       "11668  -0.999051        1.145914          -0.060650  0.445599       -1.344075  \n",
       "11669  -0.999051       -0.872666          -0.732008 -1.092665       -1.344075  \n",
       "11670  -0.033583       -0.872666           2.275768  0.896119       -0.328471  \n",
       "11671  -0.033583        1.145914          -0.661637  0.110574       -0.328471  \n",
       "\n",
       "[11672 rows x 10 columns]"
      ]
     },
     "execution_count": 18,
     "metadata": {},
     "output_type": "execute_result"
    }
   ],
   "source": [
    "# Data Import\n",
    "x_train_file = Path(\"Resources/X_train_SMOTEENN_balanced_scaled_train_dataset.csv\")\n",
    "x_test_file = Path(\"Resources/X_test_SMOTEENN_balanced_scaled_train_dataset.csv\")\n",
    "y_train_file = Path(\"Resources/y_train_SMOTEENN_balanced_scaled_train_dataset.csv\")\n",
    "y_test_file = Path(\"Resources/y_test_SMOTEENN_balanced_scaled_train_dataset.csv\")\n",
    "\n",
    "X_train = pd.read_csv(x_train_file)\n",
    "X_test = pd.read_csv(x_test_file)\n",
    "y_train = pd.read_csv(y_train_file)\n",
    "y_test = pd.read_csv(y_test_file)\n",
    "\n",
    "y_train = y_train['0']\n",
    "y_test = y_test['stroke']\n",
    "\n",
    "X_train"
   ]
  },
  {
   "cell_type": "markdown",
   "id": "bb38f586",
   "metadata": {},
   "source": [
    "#### Model Raw Data (Medical Only)"
   ]
  },
  {
   "cell_type": "code",
   "execution_count": 8,
   "id": "ce5c0949",
   "metadata": {},
   "outputs": [],
   "source": [
    "# Create model instance\n",
    "rf_model = RandomForestClassifier(n_estimators=512) "
   ]
  },
  {
   "cell_type": "code",
   "execution_count": 9,
   "id": "04d68f2b",
   "metadata": {},
   "outputs": [],
   "source": [
    "# Fit the model\n",
    "rf_model = rf_model.fit(X_train, y_train)"
   ]
  },
  {
   "cell_type": "code",
   "execution_count": 10,
   "id": "1970f885",
   "metadata": {},
   "outputs": [],
   "source": [
    "# Making predictions\n",
    "predictions = rf_model.predict(X_test)"
   ]
  },
  {
   "cell_type": "code",
   "execution_count": 11,
   "id": "b6dba663",
   "metadata": {},
   "outputs": [],
   "source": [
    "# confusion matrix.\n",
    "cm = confusion_matrix(y_test, predictions)\n",
    "\n",
    "cm_df = pd.DataFrame(\n",
    "    cm, index=[\"Actual 0\", \"Actual 1\"], columns=[\"Predicted 0\", \"Predicted 1\"])"
   ]
  },
  {
   "cell_type": "code",
   "execution_count": 12,
   "id": "317bb14b",
   "metadata": {},
   "outputs": [],
   "source": [
    "# accuracy score.\n",
    "acc_score = accuracy_score(y_test, predictions)"
   ]
  },
  {
   "cell_type": "code",
   "execution_count": 13,
   "id": "2d0c5a5a",
   "metadata": {
    "scrolled": true
   },
   "outputs": [
    {
     "name": "stdout",
     "output_type": "stream",
     "text": [
      "Confusion Matrix\n"
     ]
    },
    {
     "data": {
      "text/html": [
       "<div>\n",
       "<style scoped>\n",
       "    .dataframe tbody tr th:only-of-type {\n",
       "        vertical-align: middle;\n",
       "    }\n",
       "\n",
       "    .dataframe tbody tr th {\n",
       "        vertical-align: top;\n",
       "    }\n",
       "\n",
       "    .dataframe thead th {\n",
       "        text-align: right;\n",
       "    }\n",
       "</style>\n",
       "<table border=\"1\" class=\"dataframe\">\n",
       "  <thead>\n",
       "    <tr style=\"text-align: right;\">\n",
       "      <th></th>\n",
       "      <th>Predicted 0</th>\n",
       "      <th>Predicted 1</th>\n",
       "    </tr>\n",
       "  </thead>\n",
       "  <tbody>\n",
       "    <tr>\n",
       "      <th>Actual 0</th>\n",
       "      <td>872</td>\n",
       "      <td>52</td>\n",
       "    </tr>\n",
       "    <tr>\n",
       "      <th>Actual 1</th>\n",
       "      <td>1</td>\n",
       "      <td>41</td>\n",
       "    </tr>\n",
       "  </tbody>\n",
       "</table>\n",
       "</div>"
      ],
      "text/plain": [
       "          Predicted 0  Predicted 1\n",
       "Actual 0          872           52\n",
       "Actual 1            1           41"
      ]
     },
     "metadata": {},
     "output_type": "display_data"
    },
    {
     "name": "stdout",
     "output_type": "stream",
     "text": [
      "Accuracy Score : 0.9451345755693582\n",
      "Classification Report\n",
      "              precision    recall  f1-score   support\n",
      "\n",
      "           0       1.00      0.94      0.97       924\n",
      "           1       0.44      0.98      0.61        42\n",
      "\n",
      "    accuracy                           0.95       966\n",
      "   macro avg       0.72      0.96      0.79       966\n",
      "weighted avg       0.97      0.95      0.95       966\n",
      "\n"
     ]
    }
   ],
   "source": [
    "# results\n",
    "print(\"Confusion Matrix\")\n",
    "display(cm_df)\n",
    "print(f\"Accuracy Score : {acc_score}\")\n",
    "print(\"Classification Report\")\n",
    "print(classification_report(y_test, predictions))"
   ]
  },
  {
   "cell_type": "code",
   "execution_count": 14,
   "id": "156f06da",
   "metadata": {},
   "outputs": [
    {
     "data": {
      "text/plain": [
       "array([0.02385713, 0.46086017, 0.01208493, 0.00789193, 0.02163122,\n",
       "       0.06934564, 0.02602369, 0.20186821, 0.12990296, 0.04653413])"
      ]
     },
     "execution_count": 14,
     "metadata": {},
     "output_type": "execute_result"
    }
   ],
   "source": [
    "importances = rf_model.feature_importances_\n",
    "importances"
   ]
  },
  {
   "cell_type": "code",
   "execution_count": 15,
   "id": "d9b6680f",
   "metadata": {},
   "outputs": [
    {
     "data": {
      "text/plain": [
       "[(0.46086017316953587, 'age'),\n",
       " (0.20186820833841693, 'avg_glucose_level'),\n",
       " (0.12990296168662088, 'bmi'),\n",
       " (0.06934563590255742, 'work_type'),\n",
       " (0.046534130229486624, 'smoking_status'),\n",
       " (0.026023685249889086, 'Residence_type'),\n",
       " (0.023857133585690693, 'gender'),\n",
       " (0.02163121776860005, 'ever_married'),\n",
       " (0.012084926387788927, 'hypertension'),\n",
       " (0.00789192768141359, 'heart_disease')]"
      ]
     },
     "execution_count": 15,
     "metadata": {},
     "output_type": "execute_result"
    }
   ],
   "source": [
    "sorted(zip(rf_model.feature_importances_, X_train.columns), reverse=True)"
   ]
  },
  {
   "cell_type": "code",
   "execution_count": null,
   "id": "0abab2af",
   "metadata": {},
   "outputs": [],
   "source": []
  }
 ],
 "metadata": {
  "kernelspec": {
   "display_name": "mlenv",
   "language": "python",
   "name": "mlenv"
  },
  "language_info": {
   "codemirror_mode": {
    "name": "ipython",
    "version": 3
   },
   "file_extension": ".py",
   "mimetype": "text/x-python",
   "name": "python",
   "nbconvert_exporter": "python",
   "pygments_lexer": "ipython3",
   "version": "3.7.10"
  }
 },
 "nbformat": 4,
 "nbformat_minor": 5
}
