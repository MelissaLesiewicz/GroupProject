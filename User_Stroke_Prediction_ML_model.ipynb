{
 "cells": [
  {
   "cell_type": "code",
   "execution_count": 1,
   "id": "63faeed7",
   "metadata": {},
   "outputs": [],
   "source": [
    "import pandas as pd\n",
    "import numpy as np\n",
    "import joblib\n",
    "\n",
    "from sklearn.compose import ColumnTransformer\n",
    "from sklearn.preprocessing import OneHotEncoder, StandardScaler\n",
    "#from sklearn.pipeline import Pipeline\n",
    "#from sklearn.preprocessing import OneHotEncoder\n",
    "from sklearn.linear_model import LogisticRegression"
   ]
  },
  {
   "cell_type": "code",
   "execution_count": 2,
   "id": "8831e1da",
   "metadata": {},
   "outputs": [],
   "source": [
    "scaler_path=\"Machine_Learning_Models/Standard_Scaler_OneHot_drop_bmi_c.joblib\"\n",
    "model_path = \"Machine_Learning_Models/Chosen_Model_LogisticRegression.joblib\"\n",
    "\n",
    "\n",
    "scaler = joblib.load(scaler_path)\n",
    "logit = joblib.load(model_path)\n",
    "\n"
   ]
  },
  {
   "cell_type": "code",
   "execution_count": 3,
   "id": "8dc2c1d4",
   "metadata": {},
   "outputs": [
    {
     "data": {
      "text/plain": [
       "20"
      ]
     },
     "execution_count": 3,
     "metadata": {},
     "output_type": "execute_result"
    }
   ],
   "source": [
    "scaler.n_features_in_"
   ]
  },
  {
   "cell_type": "code",
   "execution_count": 4,
   "id": "f3f227e9",
   "metadata": {},
   "outputs": [
    {
     "data": {
      "text/plain": [
       "array([[ 1.25050096,  0.184401  ,  0.04911398,  0.19664175,  0.02626585,\n",
       "        -0.02005481, -0.06163646, -0.07659446,  0.07659446, -0.02002759,\n",
       "        -0.08197115, -0.03781824, -0.00187307,  0.14183613, -0.080902  ,\n",
       "         0.080902  ,  0.00431135, -0.00834482, -0.0767255 ,  0.10724395]])"
      ]
     },
     "execution_count": 4,
     "metadata": {},
     "output_type": "execute_result"
    }
   ],
   "source": [
    "logit.coef_"
   ]
  },
  {
   "cell_type": "code",
   "execution_count": 5,
   "id": "b007127f",
   "metadata": {},
   "outputs": [
    {
     "name": "stdout",
     "output_type": "stream",
     "text": [
      "What is your Gender? Enter 0: Male, 1:Female, 2:Non Binary (Other)\n",
      "Resp:0\n",
      "What is your Smoking status? Enter 0: Never Smoked, 1:Formerly Smoked, 2:Smokes, 3:Dont Know\n",
      "Resp:2\n",
      "Have you ever been married? Enter 0: No, 1:Yes\n",
      "Resp:1\n",
      "What is your work type? Enter 0: Children, 1:Government, 2:Self-employed, 3:Private, 4:Never Worked\n",
      "Resp:3\n",
      "What is your residence type? Enter 0: Rural, 1:Urban\n",
      "Resp:1\n",
      "Enter your age:36\n",
      "Do you have any hypertension problem? Enter 1: Yes or 0:No\n",
      "Resp:0\n",
      "Do you have any heart disease? Enter 1: Yes or 0:No\n",
      "Resp:1\n",
      "What´s your average glucose level?\n",
      "Resp:156\n"
     ]
    }
   ],
   "source": [
    "test=pd.DataFrame(columns=['age', 'hypertension', 'heart_disease', 'avg_glucose_level',\n",
    "       'gender_Female', 'gender_Male', 'gender_Other', 'ever_married_No',\n",
    "       'ever_married_Yes', 'work_type_Govt_job', 'work_type_Never_worked',\n",
    "       'work_type_Private', 'work_type_Self-employed',\n",
    "       'work_type_children', 'Residence_type_Rural',\n",
    "       'Residence_type_Urban', 'smoking_status_Unknown',\n",
    "       'smoking_status_formerly smoked', 'smoking_status_never smoked',\n",
    "       'smoking_status_smokes'])\n",
    "\n",
    "\n",
    "sel=int(input(\"What is your Gender? Enter 0: Male, 1:Female, 2:Non Binary (Other)\\nResp:\"))\n",
    "\n",
    "\n",
    "if sel==0:\n",
    "        female= 0\n",
    "        male= 1\n",
    "        other= 0\n",
    "\n",
    "elif sel==1:\n",
    "        female= 1\n",
    "        male= 0\n",
    "        other= 0\n",
    "else: \n",
    "        female= 0\n",
    "        male= 0\n",
    "        other= 1\n",
    "        \n",
    "        \n",
    "sel=int(input(\"What is your Smoking status? Enter 0: Never Smoked, 1:Formerly Smoked, 2:Smokes, 3:Dont Know\\nResp:\"))\n",
    "if sel==0:\n",
    "        unknown= 0        \n",
    "        form_smoker= 0\n",
    "        never_smoked =  1      \n",
    "        smokes= 0\n",
    "elif sel==1:\n",
    "        unknown= 0        \n",
    "        form_smoker= 1\n",
    "        never_smoked =  0     \n",
    "        smokes= 0\n",
    "elif sel==2:\n",
    "        unknown= 0        \n",
    "        form_smoker= 0\n",
    "        never_smoked =  0     \n",
    "        smokes= 1\n",
    "else: \n",
    "        unknown= 1      \n",
    "        form_smoker= 0\n",
    "        never_smoked =  0    \n",
    "        smokes= 0\n",
    "        \n",
    "sel=int(input(\"Have you ever been married? Enter 0: No, 1:Yes\\nResp:\"))\n",
    "if sel==1:\n",
    "        married_no= 0\n",
    "        married_yes= 1\n",
    "\n",
    "else: \n",
    "        married_no= 1\n",
    "        married_yes= 0\n",
    "\n",
    "sel=int(input(\"What is your work type? Enter 0: Children, 1:Government, 2:Self-employed, 3:Private, 4:Never Worked\\nResp:\"))\n",
    "if sel==0:\n",
    "        job_child= 1        \n",
    "        job_gov= 0\n",
    "        job_self =  0      \n",
    "        job_priv= 0\n",
    "        job_never= 0\n",
    "elif sel==1:\n",
    "        job_child= 0        \n",
    "        job_gov= 1\n",
    "        job_self =  0      \n",
    "        job_priv= 0\n",
    "        job_never= 0\n",
    "elif sel==2:\n",
    "        job_child= 0     \n",
    "        job_gov= 0\n",
    "        job_self =  1      \n",
    "        job_priv= 0\n",
    "        job_never= 0\n",
    "elif sel==3:\n",
    "        job_child= 0        \n",
    "        job_gov= 0\n",
    "        job_self =  0      \n",
    "        job_priv= 1\n",
    "        job_never= 0\n",
    "else: \n",
    "        job_child= 0        \n",
    "        job_gov= 0\n",
    "        job_self =  0      \n",
    "        job_priv= 0\n",
    "        job_never= 1\n",
    "\n",
    "sel=int(input(\"What is your residence type? Enter 0: Rural, 1:Urban\\nResp:\"))\n",
    "if sel==1:\n",
    "        urban= 1\n",
    "        rural= 0\n",
    "\n",
    "else: \n",
    "        urban= 0\n",
    "        rural= 1\n",
    "        \n",
    "test=test.append(\n",
    "    {  \n",
    "    'age':float(input(\"Enter your age:\")),\n",
    "    'hypertension':int(input(\"Do you have any hypertension problem? Enter 1: Yes or 0:No\\nResp:\")),\n",
    "    'heart_disease':int(input(\"Do you have any heart disease? Enter 1: Yes or 0:No\\nResp:\")),\n",
    "    'avg_glucose_level':float(input(\"What´s your average glucose level?\\nResp:\")),\n",
    "    'gender_Female':female,\n",
    "    'gender_Male':male,\n",
    "    'gender_Other':other,\n",
    "\n",
    "    'ever_married_No':married_no,\n",
    "    'ever_married_Yes':married_yes,\n",
    "    'work_type_Govt_job': job_gov,\n",
    "    'work_type_Never_worked': job_never,\n",
    "    'work_type_Private': job_priv,\n",
    "    'work_type_Self-employed': job_self,\n",
    "    'work_type_children':job_child,\n",
    "        \n",
    "    'Residence_type_Rural':urban,\n",
    "    'Residence_type_Urban': rural,\n",
    "\n",
    "\n",
    "    'smoking_status_Unknown': unknown,       \n",
    "    'smoking_status_formerly smoked': form_smoker,\n",
    "    'smoking_status_never smoked':  never_smoked,    \n",
    "    'smoking_status_smokes': smokes\n",
    "    }, ignore_index=True)\n",
    "\n",
    "\n",
    "\n"
   ]
  },
  {
   "cell_type": "code",
   "execution_count": 6,
   "id": "bb7cec97",
   "metadata": {
    "scrolled": true
   },
   "outputs": [
    {
     "data": {
      "text/html": [
       "<div>\n",
       "<style scoped>\n",
       "    .dataframe tbody tr th:only-of-type {\n",
       "        vertical-align: middle;\n",
       "    }\n",
       "\n",
       "    .dataframe tbody tr th {\n",
       "        vertical-align: top;\n",
       "    }\n",
       "\n",
       "    .dataframe thead th {\n",
       "        text-align: right;\n",
       "    }\n",
       "</style>\n",
       "<table border=\"1\" class=\"dataframe\">\n",
       "  <thead>\n",
       "    <tr style=\"text-align: right;\">\n",
       "      <th></th>\n",
       "      <th>age</th>\n",
       "      <th>hypertension</th>\n",
       "      <th>heart_disease</th>\n",
       "      <th>avg_glucose_level</th>\n",
       "      <th>gender_Female</th>\n",
       "      <th>gender_Male</th>\n",
       "      <th>gender_Other</th>\n",
       "      <th>ever_married_No</th>\n",
       "      <th>ever_married_Yes</th>\n",
       "      <th>work_type_Govt_job</th>\n",
       "      <th>work_type_Never_worked</th>\n",
       "      <th>work_type_Private</th>\n",
       "      <th>work_type_Self-employed</th>\n",
       "      <th>work_type_children</th>\n",
       "      <th>Residence_type_Rural</th>\n",
       "      <th>Residence_type_Urban</th>\n",
       "      <th>smoking_status_Unknown</th>\n",
       "      <th>smoking_status_formerly smoked</th>\n",
       "      <th>smoking_status_never smoked</th>\n",
       "      <th>smoking_status_smokes</th>\n",
       "    </tr>\n",
       "  </thead>\n",
       "  <tbody>\n",
       "    <tr>\n",
       "      <th>0</th>\n",
       "      <td>36.0</td>\n",
       "      <td>0.0</td>\n",
       "      <td>1.0</td>\n",
       "      <td>156.0</td>\n",
       "      <td>0.0</td>\n",
       "      <td>1.0</td>\n",
       "      <td>0.0</td>\n",
       "      <td>0.0</td>\n",
       "      <td>1.0</td>\n",
       "      <td>0.0</td>\n",
       "      <td>0.0</td>\n",
       "      <td>1.0</td>\n",
       "      <td>0.0</td>\n",
       "      <td>0.0</td>\n",
       "      <td>1.0</td>\n",
       "      <td>0.0</td>\n",
       "      <td>0.0</td>\n",
       "      <td>0.0</td>\n",
       "      <td>0.0</td>\n",
       "      <td>1.0</td>\n",
       "    </tr>\n",
       "  </tbody>\n",
       "</table>\n",
       "</div>"
      ],
      "text/plain": [
       "    age  hypertension  heart_disease  avg_glucose_level  gender_Female  \\\n",
       "0  36.0           0.0            1.0              156.0            0.0   \n",
       "\n",
       "   gender_Male  gender_Other  ever_married_No  ever_married_Yes  \\\n",
       "0          1.0           0.0              0.0               1.0   \n",
       "\n",
       "   work_type_Govt_job  work_type_Never_worked  work_type_Private  \\\n",
       "0                 0.0                     0.0                1.0   \n",
       "\n",
       "   work_type_Self-employed  work_type_children  Residence_type_Rural  \\\n",
       "0                      0.0                 0.0                   1.0   \n",
       "\n",
       "   Residence_type_Urban  smoking_status_Unknown  \\\n",
       "0                   0.0                     0.0   \n",
       "\n",
       "   smoking_status_formerly smoked  smoking_status_never smoked  \\\n",
       "0                             0.0                          0.0   \n",
       "\n",
       "   smoking_status_smokes  \n",
       "0                    1.0  "
      ]
     },
     "execution_count": 6,
     "metadata": {},
     "output_type": "execute_result"
    }
   ],
   "source": [
    "test"
   ]
  },
  {
   "cell_type": "code",
   "execution_count": 7,
   "id": "0bba9fff",
   "metadata": {},
   "outputs": [],
   "source": [
    "X_scaled = scaler.transform(test)"
   ]
  },
  {
   "cell_type": "code",
   "execution_count": 8,
   "id": "2af75107",
   "metadata": {},
   "outputs": [
    {
     "data": {
      "text/plain": [
       "array([[ 3.60000000e+01,  3.57056651e-17,  1.00000000e+00,\n",
       "         1.56000000e+02, -8.92641628e-17,  1.00000000e+00,\n",
       "         4.46320814e-18,  5.35584977e-17,  1.00000000e+00,\n",
       "        -1.33896244e-17,  3.34740610e-17,  1.00000000e+00,\n",
       "        -1.78528326e-17,  8.92641628e-17,  1.00000000e+00,\n",
       "         3.57056651e-17,  2.45476448e-17, -8.03377465e-17,\n",
       "         6.24849139e-17,  1.00000000e+00]])"
      ]
     },
     "execution_count": 8,
     "metadata": {},
     "output_type": "execute_result"
    }
   ],
   "source": [
    "X_scaled"
   ]
  },
  {
   "cell_type": "code",
   "execution_count": 9,
   "id": "bc3534de",
   "metadata": {},
   "outputs": [],
   "source": [
    "X_scaled = pd.DataFrame(X_scaled, columns=test.columns)"
   ]
  },
  {
   "cell_type": "code",
   "execution_count": 10,
   "id": "a03761d5",
   "metadata": {},
   "outputs": [
    {
     "name": "stdout",
     "output_type": "stream",
     "text": [
      "Very likely to have a stoke\n"
     ]
    }
   ],
   "source": [
    "if (logit.predict(X_scaled.values)):\n",
    "    print(\"Very likely to have a stoke\")\n",
    "else: print(\"Unlikely to have a stroke\")"
   ]
  },
  {
   "cell_type": "code",
   "execution_count": null,
   "id": "a66d59fe",
   "metadata": {},
   "outputs": [],
   "source": []
  }
 ],
 "metadata": {
  "kernelspec": {
   "display_name": "Python 3",
   "language": "python",
   "name": "python3"
  },
  "language_info": {
   "codemirror_mode": {
    "name": "ipython",
    "version": 3
   },
   "file_extension": ".py",
   "mimetype": "text/x-python",
   "name": "python",
   "nbconvert_exporter": "python",
   "pygments_lexer": "ipython3",
   "version": "3.7.10"
  }
 },
 "nbformat": 4,
 "nbformat_minor": 5
}
